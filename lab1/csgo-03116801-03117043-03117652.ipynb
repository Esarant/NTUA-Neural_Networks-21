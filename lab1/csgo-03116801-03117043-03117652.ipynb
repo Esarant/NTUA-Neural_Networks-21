{
 "cells": [
  {
   "cell_type": "code",
   "execution_count": 1,
   "id": "9bf31ef1",
   "metadata": {
    "_cell_guid": "b1076dfc-b9ad-4769-8c92-a6c4dae69d19",
    "_uuid": "8f2839f25d086af736a60e9eeb907d3b93b6e0e5",
    "execution": {
     "iopub.execute_input": "2021-12-05T13:25:21.440463Z",
     "iopub.status.busy": "2021-12-05T13:25:21.439426Z",
     "iopub.status.idle": "2021-12-05T13:25:50.787130Z",
     "shell.execute_reply": "2021-12-05T13:25:50.787721Z",
     "shell.execute_reply.started": "2021-12-04T03:53:37.370913Z"
    },
    "papermill": {
     "duration": 29.41872,
     "end_time": "2021-12-05T13:25:50.788040",
     "exception": false,
     "start_time": "2021-12-05T13:25:21.369320",
     "status": "completed"
    },
    "tags": []
   },
   "outputs": [
    {
     "name": "stdout",
     "output_type": "stream",
     "text": [
      "Requirement already satisfied: scikit-learn in /opt/conda/lib/python3.7/site-packages (0.23.2)\r\n",
      "Collecting scikit-learn\r\n",
      "  Downloading scikit_learn-1.0.1-cp37-cp37m-manylinux_2_12_x86_64.manylinux2010_x86_64.whl (23.2 MB)\r\n",
      "\u001b[K     |████████████████████████████████| 23.2 MB 440 kB/s \r\n",
      "\u001b[?25hRequirement already satisfied: joblib>=0.11 in /opt/conda/lib/python3.7/site-packages (from scikit-learn) (1.0.1)\r\n",
      "Requirement already satisfied: scipy>=1.1.0 in /opt/conda/lib/python3.7/site-packages (from scikit-learn) (1.7.1)\r\n",
      "Requirement already satisfied: numpy>=1.14.6 in /opt/conda/lib/python3.7/site-packages (from scikit-learn) (1.19.5)\r\n",
      "Requirement already satisfied: threadpoolctl>=2.0.0 in /opt/conda/lib/python3.7/site-packages (from scikit-learn) (2.2.0)\r\n",
      "Installing collected packages: scikit-learn\r\n",
      "  Attempting uninstall: scikit-learn\r\n",
      "    Found existing installation: scikit-learn 0.23.2\r\n",
      "    Uninstalling scikit-learn-0.23.2:\r\n",
      "      Successfully uninstalled scikit-learn-0.23.2\r\n",
      "\u001b[31mERROR: pip's dependency resolver does not currently take into account all the packages that are installed. This behaviour is the source of the following dependency conflicts.\r\n",
      "pdpbox 0.2.1 requires matplotlib==3.1.1, but you have matplotlib 3.4.3 which is incompatible.\r\n",
      "hypertools 0.7.0 requires scikit-learn!=0.22,<0.24,>=0.19.1, but you have scikit-learn 1.0.1 which is incompatible.\u001b[0m\r\n",
      "Successfully installed scikit-learn-1.0.1\r\n",
      "\u001b[33mWARNING: Running pip as the 'root' user can result in broken permissions and conflicting behaviour with the system package manager. It is recommended to use a virtual environment instead: https://pip.pypa.io/warnings/venv\u001b[0m\r\n",
      "Requirement already satisfied: ray[tune] in /opt/conda/lib/python3.7/site-packages (1.7.1)\r\n",
      "Collecting tune-sklearn\r\n",
      "  Downloading tune_sklearn-0.4.1-py3-none-any.whl (40 kB)\r\n",
      "\u001b[K     |████████████████████████████████| 40 kB 653 kB/s \r\n",
      "\u001b[?25hRequirement already satisfied: click>=7.0 in /opt/conda/lib/python3.7/site-packages (from ray[tune]) (8.0.1)\r\n",
      "Requirement already satisfied: filelock in /opt/conda/lib/python3.7/site-packages (from ray[tune]) (3.0.12)\r\n",
      "Requirement already satisfied: redis>=3.5.0 in /opt/conda/lib/python3.7/site-packages (from ray[tune]) (3.5.3)\r\n",
      "Requirement already satisfied: msgpack<2.0.0,>=1.0.0 in /opt/conda/lib/python3.7/site-packages (from ray[tune]) (1.0.2)\r\n",
      "Requirement already satisfied: protobuf>=3.15.3 in /opt/conda/lib/python3.7/site-packages (from ray[tune]) (3.19.0)\r\n",
      "Requirement already satisfied: numpy>=1.16 in /opt/conda/lib/python3.7/site-packages (from ray[tune]) (1.19.5)\r\n",
      "Requirement already satisfied: pyyaml in /opt/conda/lib/python3.7/site-packages (from ray[tune]) (5.4.1)\r\n",
      "Requirement already satisfied: attrs in /opt/conda/lib/python3.7/site-packages (from ray[tune]) (21.2.0)\r\n",
      "Requirement already satisfied: grpcio>=1.28.1 in /opt/conda/lib/python3.7/site-packages (from ray[tune]) (1.38.1)\r\n",
      "Requirement already satisfied: tensorboardX>=1.9 in /opt/conda/lib/python3.7/site-packages (from ray[tune]) (2.2)\r\n",
      "Requirement already satisfied: requests in /opt/conda/lib/python3.7/site-packages (from ray[tune]) (2.25.1)\r\n",
      "Requirement already satisfied: pandas in /opt/conda/lib/python3.7/site-packages (from ray[tune]) (1.3.3)\r\n",
      "Requirement already satisfied: tabulate in /opt/conda/lib/python3.7/site-packages (from ray[tune]) (0.8.9)\r\n",
      "Requirement already satisfied: scipy in /opt/conda/lib/python3.7/site-packages (from tune-sklearn) (1.7.1)\r\n",
      "Requirement already satisfied: scikit-learn in /opt/conda/lib/python3.7/site-packages (from tune-sklearn) (1.0.1)\r\n",
      "Requirement already satisfied: importlib-metadata in /opt/conda/lib/python3.7/site-packages (from click>=7.0->ray[tune]) (4.8.1)\r\n",
      "Requirement already satisfied: six>=1.5.2 in /opt/conda/lib/python3.7/site-packages (from grpcio>=1.28.1->ray[tune]) (1.16.0)\r\n",
      "Requirement already satisfied: zipp>=0.5 in /opt/conda/lib/python3.7/site-packages (from importlib-metadata->click>=7.0->ray[tune]) (3.5.0)\r\n",
      "Requirement already satisfied: typing-extensions>=3.6.4 in /opt/conda/lib/python3.7/site-packages (from importlib-metadata->click>=7.0->ray[tune]) (3.10.0.2)\r\n",
      "Requirement already satisfied: python-dateutil>=2.7.3 in /opt/conda/lib/python3.7/site-packages (from pandas->ray[tune]) (2.8.0)\r\n",
      "Requirement already satisfied: pytz>=2017.3 in /opt/conda/lib/python3.7/site-packages (from pandas->ray[tune]) (2021.1)\r\n",
      "Requirement already satisfied: chardet<5,>=3.0.2 in /opt/conda/lib/python3.7/site-packages (from requests->ray[tune]) (4.0.0)\r\n",
      "Requirement already satisfied: certifi>=2017.4.17 in /opt/conda/lib/python3.7/site-packages (from requests->ray[tune]) (2021.10.8)\r\n",
      "Requirement already satisfied: idna<3,>=2.5 in /opt/conda/lib/python3.7/site-packages (from requests->ray[tune]) (2.10)\r\n",
      "Requirement already satisfied: urllib3<1.27,>=1.21.1 in /opt/conda/lib/python3.7/site-packages (from requests->ray[tune]) (1.26.6)\r\n",
      "Requirement already satisfied: joblib>=0.11 in /opt/conda/lib/python3.7/site-packages (from scikit-learn->tune-sklearn) (1.0.1)\r\n",
      "Requirement already satisfied: threadpoolctl>=2.0.0 in /opt/conda/lib/python3.7/site-packages (from scikit-learn->tune-sklearn) (2.2.0)\r\n",
      "Installing collected packages: tune-sklearn\r\n",
      "Successfully installed tune-sklearn-0.4.1\r\n",
      "\u001b[33mWARNING: Running pip as the 'root' user can result in broken permissions and conflicting behaviour with the system package manager. It is recommended to use a virtual environment instead: https://pip.pypa.io/warnings/venv\u001b[0m\r\n",
      "/kaggle/input/csgo-round-winner-classification/csgo_round_snapshots.csv\n"
     ]
    }
   ],
   "source": [
    "# This Python 3 environment comes with many helpful analytics libraries installed\n",
    "# It is defined by the kaggle/python Docker image: https://github.com/kaggle/docker-python\n",
    "# For example, here's several helpful packages to load\n",
    "!pip install scikit-learn  -U\n",
    "!pip install ray[tune] tune-sklearn\n",
    "\n",
    "import numpy as np # linear algebra\n",
    "import pandas as pd # data processing, CSV file I/O (e.g. pd.read_csv)\n",
    "import matplotlib.pyplot as plt\n",
    "import time\n",
    "from sklearn.dummy import DummyClassifier\n",
    "from sklearn import model_selection #train_test_split, cross_validate, GridSearchCV\n",
    "from sklearn import neural_network #MLP\n",
    "from sklearn import preprocessing #StandardScaler, MinMaxScaler, RobustScaler, LabelEncoder\n",
    "from sklearn.metrics import accuracy_score,classification_report,confusion_matrix, precision_recall_fscore_support,f1_score\n",
    "from sklearn.svm import SVC\n",
    "from sklearn import decomposition #PCA\n",
    "from sklearn import feature_selection #VCA\n",
    "from imblearn.pipeline import Pipeline\n",
    "from sklearn.utils import shuffle\n",
    "from sklearn.linear_model import SGDClassifier\n",
    "\n",
    "from ray.tune.sklearn import TuneGridSearchCV\n",
    "\n",
    "# Input data files are available in the read-only \"../input/\" directory\n",
    "# For example, running this (by clicking run or pressing Shift+Enter) will list all files under the input directory\n",
    "\n",
    "import os\n",
    "for dirname, _, filenames in os.walk('/kaggle/input'):\n",
    "    for filename in filenames:\n",
    "        print(os.path.join(dirname, filename))\n",
    "\n",
    "# You can write up to 20GB to the current directory (/kaggle/working/) that gets preserved as output when you create a version using \"Save & Run All\" \n",
    "# You can also write temporary files to /kaggle/temp/, but they won't be saved outside of the current session"
   ]
  },
  {
   "cell_type": "markdown",
   "id": "90c99540",
   "metadata": {
    "papermill": {
     "duration": 0.063721,
     "end_time": "2021-12-05T13:25:50.915059",
     "exception": false,
     "start_time": "2021-12-05T13:25:50.851338",
     "status": "completed"
    },
    "tags": []
   },
   "source": [
    "### Enable autocompletion"
   ]
  },
  {
   "cell_type": "code",
   "execution_count": 2,
   "id": "0a665ca9",
   "metadata": {
    "execution": {
     "iopub.execute_input": "2021-12-05T13:25:51.051478Z",
     "iopub.status.busy": "2021-12-05T13:25:51.050742Z",
     "iopub.status.idle": "2021-12-05T13:25:51.057814Z",
     "shell.execute_reply": "2021-12-05T13:25:51.058460Z",
     "shell.execute_reply.started": "2021-12-04T03:53:57.803497Z"
    },
    "papermill": {
     "duration": 0.080739,
     "end_time": "2021-12-05T13:25:51.058678",
     "exception": false,
     "start_time": "2021-12-05T13:25:50.977939",
     "status": "completed"
    },
    "tags": []
   },
   "outputs": [],
   "source": [
    " %config Completer.use_jedi = False"
   ]
  },
  {
   "cell_type": "markdown",
   "id": "2f98317a",
   "metadata": {
    "papermill": {
     "duration": 0.12388,
     "end_time": "2021-12-05T13:25:51.247026",
     "exception": false,
     "start_time": "2021-12-05T13:25:51.123146",
     "status": "completed"
    },
    "tags": []
   },
   "source": [
    "### Data Processing"
   ]
  },
  {
   "cell_type": "markdown",
   "id": "71f7e54c",
   "metadata": {
    "papermill": {
     "duration": 0.06513,
     "end_time": "2021-12-05T13:25:51.376160",
     "exception": false,
     "start_time": "2021-12-05T13:25:51.311030",
     "status": "completed"
    },
    "tags": []
   },
   "source": [
    "First, find what the data folder contains."
   ]
  },
  {
   "cell_type": "code",
   "execution_count": 3,
   "id": "eff8e94f",
   "metadata": {
    "execution": {
     "iopub.execute_input": "2021-12-05T13:25:51.508267Z",
     "iopub.status.busy": "2021-12-05T13:25:51.507635Z",
     "iopub.status.idle": "2021-12-05T13:25:52.318119Z",
     "shell.execute_reply": "2021-12-05T13:25:52.318618Z",
     "shell.execute_reply.started": "2021-12-04T03:53:57.824041Z"
    },
    "papermill": {
     "duration": 0.877633,
     "end_time": "2021-12-05T13:25:52.318824",
     "exception": false,
     "start_time": "2021-12-05T13:25:51.441191",
     "status": "completed"
    },
    "tags": []
   },
   "outputs": [
    {
     "name": "stdout",
     "output_type": "stream",
     "text": [
      "csgo_round_snapshots.csv\r\n"
     ]
    }
   ],
   "source": [
    "ls ../input/csgo-round-winner-classification"
   ]
  },
  {
   "cell_type": "code",
   "execution_count": 4,
   "id": "a7e9efb9",
   "metadata": {
    "execution": {
     "iopub.execute_input": "2021-12-05T13:25:52.453927Z",
     "iopub.status.busy": "2021-12-05T13:25:52.453150Z",
     "iopub.status.idle": "2021-12-05T13:25:54.911669Z",
     "shell.execute_reply": "2021-12-05T13:25:54.910872Z",
     "shell.execute_reply.started": "2021-12-04T03:53:58.630507Z"
    },
    "papermill": {
     "duration": 2.52831,
     "end_time": "2021-12-05T13:25:54.911864",
     "exception": false,
     "start_time": "2021-12-05T13:25:52.383554",
     "status": "completed"
    },
    "tags": []
   },
   "outputs": [
    {
     "name": "stdout",
     "output_type": "stream",
     "text": [
      "The Dataset contains 122410 samples and 97 features.\n",
      "\n",
      "   time_left  ct_score  t_score       map  bomb_planted  ct_health  t_health  \\\n",
      "0     175.00       0.0      0.0  de_dust2         False      500.0     500.0   \n",
      "1     156.03       0.0      0.0  de_dust2         False      500.0     500.0   \n",
      "2      96.03       0.0      0.0  de_dust2         False      391.0     400.0   \n",
      "3      76.03       0.0      0.0  de_dust2         False      391.0     400.0   \n",
      "4     174.97       1.0      0.0  de_dust2         False      500.0     500.0   \n",
      "\n",
      "   ct_armor  t_armor  ct_money  ...  t_grenade_flashbang  \\\n",
      "0       0.0      0.0    4000.0  ...                  0.0   \n",
      "1     400.0    300.0     600.0  ...                  0.0   \n",
      "2     294.0    200.0     750.0  ...                  0.0   \n",
      "3     294.0    200.0     750.0  ...                  0.0   \n",
      "4     192.0      0.0   18350.0  ...                  0.0   \n",
      "\n",
      "   ct_grenade_smokegrenade  t_grenade_smokegrenade  \\\n",
      "0                      0.0                     0.0   \n",
      "1                      0.0                     2.0   \n",
      "2                      0.0                     2.0   \n",
      "3                      0.0                     0.0   \n",
      "4                      0.0                     0.0   \n",
      "\n",
      "   ct_grenade_incendiarygrenade  t_grenade_incendiarygrenade  \\\n",
      "0                           0.0                          0.0   \n",
      "1                           0.0                          0.0   \n",
      "2                           0.0                          0.0   \n",
      "3                           0.0                          0.0   \n",
      "4                           0.0                          0.0   \n",
      "\n",
      "   ct_grenade_molotovgrenade  t_grenade_molotovgrenade  \\\n",
      "0                        0.0                       0.0   \n",
      "1                        0.0                       0.0   \n",
      "2                        0.0                       0.0   \n",
      "3                        0.0                       0.0   \n",
      "4                        0.0                       0.0   \n",
      "\n",
      "   ct_grenade_decoygrenade  t_grenade_decoygrenade  round_winner  \n",
      "0                      0.0                     0.0            CT  \n",
      "1                      0.0                     0.0            CT  \n",
      "2                      0.0                     0.0            CT  \n",
      "3                      0.0                     0.0            CT  \n",
      "4                      0.0                     0.0            CT  \n",
      "\n",
      "[5 rows x 97 columns]\n"
     ]
    }
   ],
   "source": [
    "df = pd.read_csv('/kaggle/input/csgo-round-winner-classification/csgo_round_snapshots.csv')\n",
    "data = df.to_numpy()\n",
    "print(\"The Dataset contains\", df.shape[0], \"samples and\", df.shape[1], \"features.\\n\")\n",
    "print(df.head())"
   ]
  },
  {
   "cell_type": "markdown",
   "id": "f5fcd50e",
   "metadata": {
    "papermill": {
     "duration": 0.064101,
     "end_time": "2021-12-05T13:25:55.044269",
     "exception": false,
     "start_time": "2021-12-05T13:25:54.980168",
     "status": "completed"
    },
    "tags": []
   },
   "source": [
    "### Missing Values"
   ]
  },
  {
   "cell_type": "markdown",
   "id": "3cd05968",
   "metadata": {
    "papermill": {
     "duration": 0.062372,
     "end_time": "2021-12-05T13:25:55.170687",
     "exception": false,
     "start_time": "2021-12-05T13:25:55.108315",
     "status": "completed"
    },
    "tags": []
   },
   "source": [
    "Three ways:"
   ]
  },
  {
   "cell_type": "code",
   "execution_count": 5,
   "id": "99db5923",
   "metadata": {
    "execution": {
     "iopub.execute_input": "2021-12-05T13:25:55.324704Z",
     "iopub.status.busy": "2021-12-05T13:25:55.323985Z",
     "iopub.status.idle": "2021-12-05T13:25:55.369678Z",
     "shell.execute_reply": "2021-12-05T13:25:55.370157Z",
     "shell.execute_reply.started": "2021-12-04T03:54:00.873102Z"
    },
    "papermill": {
     "duration": 0.13176,
     "end_time": "2021-12-05T13:25:55.370345",
     "exception": false,
     "start_time": "2021-12-05T13:25:55.238585",
     "status": "completed"
    },
    "tags": []
   },
   "outputs": [
    {
     "data": {
      "text/plain": [
       "time_left                    0\n",
       "ct_score                     0\n",
       "t_score                      0\n",
       "map                          0\n",
       "bomb_planted                 0\n",
       "                            ..\n",
       "ct_grenade_molotovgrenade    0\n",
       "t_grenade_molotovgrenade     0\n",
       "ct_grenade_decoygrenade      0\n",
       "t_grenade_decoygrenade       0\n",
       "round_winner                 0\n",
       "Length: 97, dtype: int64"
      ]
     },
     "execution_count": 5,
     "metadata": {},
     "output_type": "execute_result"
    }
   ],
   "source": [
    "df.isnull().sum()"
   ]
  },
  {
   "cell_type": "code",
   "execution_count": 6,
   "id": "209721af",
   "metadata": {
    "execution": {
     "iopub.execute_input": "2021-12-05T13:25:55.516113Z",
     "iopub.status.busy": "2021-12-05T13:25:55.515503Z",
     "iopub.status.idle": "2021-12-05T13:25:56.357364Z",
     "shell.execute_reply": "2021-12-05T13:25:56.356789Z",
     "shell.execute_reply.started": "2021-12-04T03:54:00.935105Z"
    },
    "papermill": {
     "duration": 0.924856,
     "end_time": "2021-12-05T13:25:56.357535",
     "exception": false,
     "start_time": "2021-12-05T13:25:55.432679",
     "status": "completed"
    },
    "tags": []
   },
   "outputs": [
    {
     "name": "stdout",
     "output_type": "stream",
     "text": [
      "0\r\n"
     ]
    }
   ],
   "source": [
    "cat '/kaggle/input/csgo-round-winner-classification/csgo_round_snapshots.csv' | grep \"?\" | wc -l"
   ]
  },
  {
   "cell_type": "code",
   "execution_count": 7,
   "id": "b548b3f2",
   "metadata": {
    "execution": {
     "iopub.execute_input": "2021-12-05T13:25:56.491114Z",
     "iopub.status.busy": "2021-12-05T13:25:56.490488Z",
     "iopub.status.idle": "2021-12-05T13:25:56.569767Z",
     "shell.execute_reply": "2021-12-05T13:25:56.568435Z",
     "shell.execute_reply.started": "2021-12-04T03:54:01.782041Z"
    },
    "papermill": {
     "duration": 0.14818,
     "end_time": "2021-12-05T13:25:56.569940",
     "exception": false,
     "start_time": "2021-12-05T13:25:56.421760",
     "status": "completed"
    },
    "tags": []
   },
   "outputs": [
    {
     "name": "stdout",
     "output_type": "stream",
     "text": [
      "<class 'pandas.core.frame.DataFrame'>\n",
      "RangeIndex: 122410 entries, 0 to 122409\n",
      "Data columns (total 97 columns):\n",
      " #   Column                        Non-Null Count   Dtype  \n",
      "---  ------                        --------------   -----  \n",
      " 0   time_left                     122410 non-null  float64\n",
      " 1   ct_score                      122410 non-null  float64\n",
      " 2   t_score                       122410 non-null  float64\n",
      " 3   map                           122410 non-null  object \n",
      " 4   bomb_planted                  122410 non-null  bool   \n",
      " 5   ct_health                     122410 non-null  float64\n",
      " 6   t_health                      122410 non-null  float64\n",
      " 7   ct_armor                      122410 non-null  float64\n",
      " 8   t_armor                       122410 non-null  float64\n",
      " 9   ct_money                      122410 non-null  float64\n",
      " 10  t_money                       122410 non-null  float64\n",
      " 11  ct_helmets                    122410 non-null  float64\n",
      " 12  t_helmets                     122410 non-null  float64\n",
      " 13  ct_defuse_kits                122410 non-null  float64\n",
      " 14  ct_players_alive              122410 non-null  float64\n",
      " 15  t_players_alive               122410 non-null  float64\n",
      " 16  ct_weapon_ak47                122410 non-null  float64\n",
      " 17  t_weapon_ak47                 122410 non-null  float64\n",
      " 18  ct_weapon_aug                 122410 non-null  float64\n",
      " 19  t_weapon_aug                  122410 non-null  float64\n",
      " 20  ct_weapon_awp                 122410 non-null  float64\n",
      " 21  t_weapon_awp                  122410 non-null  float64\n",
      " 22  ct_weapon_bizon               122410 non-null  float64\n",
      " 23  t_weapon_bizon                122410 non-null  float64\n",
      " 24  ct_weapon_cz75auto            122410 non-null  float64\n",
      " 25  t_weapon_cz75auto             122410 non-null  float64\n",
      " 26  ct_weapon_elite               122410 non-null  float64\n",
      " 27  t_weapon_elite                122410 non-null  float64\n",
      " 28  ct_weapon_famas               122410 non-null  float64\n",
      " 29  t_weapon_famas                122410 non-null  float64\n",
      " 30  ct_weapon_g3sg1               122410 non-null  float64\n",
      " 31  t_weapon_g3sg1                122410 non-null  float64\n",
      " 32  ct_weapon_galilar             122410 non-null  float64\n",
      " 33  t_weapon_galilar              122410 non-null  float64\n",
      " 34  ct_weapon_glock               122410 non-null  float64\n",
      " 35  t_weapon_glock                122410 non-null  float64\n",
      " 36  ct_weapon_m249                122410 non-null  float64\n",
      " 37  t_weapon_m249                 122410 non-null  float64\n",
      " 38  ct_weapon_m4a1s               122410 non-null  float64\n",
      " 39  t_weapon_m4a1s                122410 non-null  float64\n",
      " 40  ct_weapon_m4a4                122410 non-null  float64\n",
      " 41  t_weapon_m4a4                 122410 non-null  float64\n",
      " 42  ct_weapon_mac10               122410 non-null  float64\n",
      " 43  t_weapon_mac10                122410 non-null  float64\n",
      " 44  ct_weapon_mag7                122410 non-null  float64\n",
      " 45  t_weapon_mag7                 122410 non-null  float64\n",
      " 46  ct_weapon_mp5sd               122410 non-null  float64\n",
      " 47  t_weapon_mp5sd                122410 non-null  float64\n",
      " 48  ct_weapon_mp7                 122410 non-null  float64\n",
      " 49  t_weapon_mp7                  122410 non-null  float64\n",
      " 50  ct_weapon_mp9                 122410 non-null  float64\n",
      " 51  t_weapon_mp9                  122410 non-null  float64\n",
      " 52  ct_weapon_negev               122410 non-null  float64\n",
      " 53  t_weapon_negev                122410 non-null  float64\n",
      " 54  ct_weapon_nova                122410 non-null  float64\n",
      " 55  t_weapon_nova                 122410 non-null  float64\n",
      " 56  ct_weapon_p90                 122410 non-null  float64\n",
      " 57  t_weapon_p90                  122410 non-null  float64\n",
      " 58  ct_weapon_r8revolver          122410 non-null  float64\n",
      " 59  t_weapon_r8revolver           122410 non-null  float64\n",
      " 60  ct_weapon_sawedoff            122410 non-null  float64\n",
      " 61  t_weapon_sawedoff             122410 non-null  float64\n",
      " 62  ct_weapon_scar20              122410 non-null  float64\n",
      " 63  t_weapon_scar20               122410 non-null  float64\n",
      " 64  ct_weapon_sg553               122410 non-null  float64\n",
      " 65  t_weapon_sg553                122410 non-null  float64\n",
      " 66  ct_weapon_ssg08               122410 non-null  float64\n",
      " 67  t_weapon_ssg08                122410 non-null  float64\n",
      " 68  ct_weapon_ump45               122410 non-null  float64\n",
      " 69  t_weapon_ump45                122410 non-null  float64\n",
      " 70  ct_weapon_xm1014              122410 non-null  float64\n",
      " 71  t_weapon_xm1014               122410 non-null  float64\n",
      " 72  ct_weapon_deagle              122410 non-null  float64\n",
      " 73  t_weapon_deagle               122410 non-null  float64\n",
      " 74  ct_weapon_fiveseven           122410 non-null  float64\n",
      " 75  t_weapon_fiveseven            122410 non-null  float64\n",
      " 76  ct_weapon_usps                122410 non-null  float64\n",
      " 77  t_weapon_usps                 122410 non-null  float64\n",
      " 78  ct_weapon_p250                122410 non-null  float64\n",
      " 79  t_weapon_p250                 122410 non-null  float64\n",
      " 80  ct_weapon_p2000               122410 non-null  float64\n",
      " 81  t_weapon_p2000                122410 non-null  float64\n",
      " 82  ct_weapon_tec9                122410 non-null  float64\n",
      " 83  t_weapon_tec9                 122410 non-null  float64\n",
      " 84  ct_grenade_hegrenade          122410 non-null  float64\n",
      " 85  t_grenade_hegrenade           122410 non-null  float64\n",
      " 86  ct_grenade_flashbang          122410 non-null  float64\n",
      " 87  t_grenade_flashbang           122410 non-null  float64\n",
      " 88  ct_grenade_smokegrenade       122410 non-null  float64\n",
      " 89  t_grenade_smokegrenade        122410 non-null  float64\n",
      " 90  ct_grenade_incendiarygrenade  122410 non-null  float64\n",
      " 91  t_grenade_incendiarygrenade   122410 non-null  float64\n",
      " 92  ct_grenade_molotovgrenade     122410 non-null  float64\n",
      " 93  t_grenade_molotovgrenade      122410 non-null  float64\n",
      " 94  ct_grenade_decoygrenade       122410 non-null  float64\n",
      " 95  t_grenade_decoygrenade        122410 non-null  float64\n",
      " 96  round_winner                  122410 non-null  object \n",
      "dtypes: bool(1), float64(94), object(2)\n",
      "memory usage: 89.8+ MB\n"
     ]
    }
   ],
   "source": [
    "df.info()"
   ]
  },
  {
   "cell_type": "markdown",
   "id": "f5843ecb",
   "metadata": {
    "papermill": {
     "duration": 0.063794,
     "end_time": "2021-12-05T13:25:56.697583",
     "exception": false,
     "start_time": "2021-12-05T13:25:56.633789",
     "status": "completed"
    },
    "tags": []
   },
   "source": [
    "As we can see, our dataset is perfect; there are no missing values."
   ]
  },
  {
   "cell_type": "markdown",
   "id": "cf327fea",
   "metadata": {
    "papermill": {
     "duration": 0.063699,
     "end_time": "2021-12-05T13:25:56.830636",
     "exception": false,
     "start_time": "2021-12-05T13:25:56.766937",
     "status": "completed"
    },
    "tags": []
   },
   "source": [
    "### Balance Inspection"
   ]
  },
  {
   "cell_type": "code",
   "execution_count": 8,
   "id": "a66f5a59",
   "metadata": {
    "execution": {
     "iopub.execute_input": "2021-12-05T13:25:56.968030Z",
     "iopub.status.busy": "2021-12-05T13:25:56.965887Z",
     "iopub.status.idle": "2021-12-05T13:25:56.971370Z",
     "shell.execute_reply": "2021-12-05T13:25:56.970632Z",
     "shell.execute_reply.started": "2021-12-04T03:54:01.865969Z"
    },
    "papermill": {
     "duration": 0.073995,
     "end_time": "2021-12-05T13:25:56.971539",
     "exception": false,
     "start_time": "2021-12-05T13:25:56.897544",
     "status": "completed"
    },
    "tags": []
   },
   "outputs": [],
   "source": [
    "labels = data[:,-1]\n",
    "feats  = data[:,:-1]"
   ]
  },
  {
   "cell_type": "code",
   "execution_count": 9,
   "id": "0571fe04",
   "metadata": {
    "execution": {
     "iopub.execute_input": "2021-12-05T13:25:57.108127Z",
     "iopub.status.busy": "2021-12-05T13:25:57.107495Z",
     "iopub.status.idle": "2021-12-05T13:25:57.121438Z",
     "shell.execute_reply": "2021-12-05T13:25:57.121899Z",
     "shell.execute_reply.started": "2021-12-04T03:54:02.564106Z"
    },
    "papermill": {
     "duration": 0.082987,
     "end_time": "2021-12-05T13:25:57.122090",
     "exception": false,
     "start_time": "2021-12-05T13:25:57.039103",
     "status": "completed"
    },
    "tags": []
   },
   "outputs": [
    {
     "name": "stdout",
     "output_type": "stream",
     "text": [
      "['CT' 'CT' 'CT' ... 'T' 'T' 'T']\n",
      "(122410, 96)\n",
      "60004 matches are won by the CT and 62406 are won by the Terrorists.\n",
      "The balance of the Dataset is 0.51 in favor of the Terrorist team.\n"
     ]
    }
   ],
   "source": [
    "np_labels = np.array(labels)\n",
    "print(np_labels)\n",
    "print(feats.shape)\n",
    "print(len(np_labels[np_labels=='CT']),\"matches are won by the CT and\",len(np_labels[np_labels=='T']),\"are won by the Terrorists.\")\n",
    "print(\"The balance of the Dataset is\",round(len(np_labels[np_labels=='T'])/len(labels),2),\"in favor of the Terrorist team.\")"
   ]
  },
  {
   "cell_type": "markdown",
   "id": "94510a81",
   "metadata": {
    "papermill": {
     "duration": 0.062917,
     "end_time": "2021-12-05T13:25:57.248780",
     "exception": false,
     "start_time": "2021-12-05T13:25:57.185863",
     "status": "completed"
    },
    "tags": []
   },
   "source": [
    "Our dataset is balanced too. Talk about luck, huh!"
   ]
  },
  {
   "cell_type": "markdown",
   "id": "f69caffd",
   "metadata": {
    "papermill": {
     "duration": 0.068283,
     "end_time": "2021-12-05T13:25:57.379766",
     "exception": false,
     "start_time": "2021-12-05T13:25:57.311483",
     "status": "completed"
    },
    "tags": []
   },
   "source": [
    "### Singular Values"
   ]
  },
  {
   "cell_type": "markdown",
   "id": "af6bdd15",
   "metadata": {
    "papermill": {
     "duration": 0.063581,
     "end_time": "2021-12-05T13:25:57.507539",
     "exception": false,
     "start_time": "2021-12-05T13:25:57.443958",
     "status": "completed"
    },
    "tags": []
   },
   "source": [
    "If we find a column that contains only one value, we drop it."
   ]
  },
  {
   "cell_type": "code",
   "execution_count": 10,
   "id": "3fca3d58",
   "metadata": {
    "execution": {
     "iopub.execute_input": "2021-12-05T13:25:57.642328Z",
     "iopub.status.busy": "2021-12-05T13:25:57.641626Z",
     "iopub.status.idle": "2021-12-05T13:25:57.999762Z",
     "shell.execute_reply": "2021-12-05T13:25:58.000436Z",
     "shell.execute_reply.started": "2021-12-04T03:54:02.594466Z"
    },
    "papermill": {
     "duration": 0.429171,
     "end_time": "2021-12-05T13:25:58.000699",
     "exception": false,
     "start_time": "2021-12-05T13:25:57.571528",
     "status": "completed"
    },
    "tags": []
   },
   "outputs": [
    {
     "name": "stdout",
     "output_type": "stream",
     "text": [
      "Dropping column ct_weapon_bizon.\n",
      "Dropping column ct_weapon_g3sg1.\n",
      "Dropping column t_weapon_m249.\n",
      "Dropping column ct_weapon_negev.\n",
      "Dropping column ct_weapon_r8revolver.\n",
      "Dropping column ct_weapon_sawedoff.\n"
     ]
    }
   ],
   "source": [
    "for column in df.columns:\n",
    "    if len(df[column].unique())==1:\n",
    "        print(f'Dropping column {column}.')\n",
    "        df = df.drop([column], axis=1)"
   ]
  },
  {
   "cell_type": "markdown",
   "id": "60a3a022",
   "metadata": {
    "papermill": {
     "duration": 0.071486,
     "end_time": "2021-12-05T13:25:58.160148",
     "exception": false,
     "start_time": "2021-12-05T13:25:58.088662",
     "status": "completed"
    },
    "tags": []
   },
   "source": [
    "The dropped columns are the weapons that no one has bought in any of the competitive games.\n",
    "We now check that the columns are indeed dropped."
   ]
  },
  {
   "cell_type": "code",
   "execution_count": 11,
   "id": "d508d03b",
   "metadata": {
    "execution": {
     "iopub.execute_input": "2021-12-05T13:25:58.307735Z",
     "iopub.status.busy": "2021-12-05T13:25:58.306935Z",
     "iopub.status.idle": "2021-12-05T13:25:58.310045Z",
     "shell.execute_reply": "2021-12-05T13:25:58.310513Z",
     "shell.execute_reply.started": "2021-12-04T03:54:02.930079Z"
    },
    "papermill": {
     "duration": 0.074835,
     "end_time": "2021-12-05T13:25:58.310683",
     "exception": false,
     "start_time": "2021-12-05T13:25:58.235848",
     "status": "completed"
    },
    "tags": []
   },
   "outputs": [
    {
     "data": {
      "text/plain": [
       "91"
      ]
     },
     "execution_count": 11,
     "metadata": {},
     "output_type": "execute_result"
    }
   ],
   "source": [
    "len(df.columns)"
   ]
  },
  {
   "cell_type": "markdown",
   "id": "4dd6d54e",
   "metadata": {
    "papermill": {
     "duration": 0.06666,
     "end_time": "2021-12-05T13:25:58.444072",
     "exception": false,
     "start_time": "2021-12-05T13:25:58.377412",
     "status": "completed"
    },
    "tags": []
   },
   "source": [
    "## Data Splitting"
   ]
  },
  {
   "cell_type": "code",
   "execution_count": 12,
   "id": "2bc5efbb",
   "metadata": {
    "execution": {
     "iopub.execute_input": "2021-12-05T13:25:58.576847Z",
     "iopub.status.busy": "2021-12-05T13:25:58.575822Z",
     "iopub.status.idle": "2021-12-05T13:25:58.607425Z",
     "shell.execute_reply": "2021-12-05T13:25:58.607935Z",
     "shell.execute_reply.started": "2021-12-04T03:54:02.940823Z"
    },
    "papermill": {
     "duration": 0.1,
     "end_time": "2021-12-05T13:25:58.608108",
     "exception": false,
     "start_time": "2021-12-05T13:25:58.508108",
     "status": "completed"
    },
    "tags": []
   },
   "outputs": [],
   "source": [
    "# Alter df[map]'s type from string to int.\n",
    "encoder = preprocessing.LabelEncoder()\n",
    "df['map'] = encoder.fit_transform(df['map'])"
   ]
  },
  {
   "cell_type": "code",
   "execution_count": 13,
   "id": "52b1996b",
   "metadata": {
    "execution": {
     "iopub.execute_input": "2021-12-05T13:25:58.777522Z",
     "iopub.status.busy": "2021-12-05T13:25:58.776808Z",
     "iopub.status.idle": "2021-12-05T13:25:58.890527Z",
     "shell.execute_reply": "2021-12-05T13:25:58.889807Z",
     "shell.execute_reply.started": "2021-12-04T03:54:02.999598Z"
    },
    "papermill": {
     "duration": 0.214965,
     "end_time": "2021-12-05T13:25:58.890673",
     "exception": false,
     "start_time": "2021-12-05T13:25:58.675708",
     "status": "completed"
    },
    "tags": []
   },
   "outputs": [],
   "source": [
    "y = df['round_winner']\n",
    "X = df.drop('round_winner', axis=1)\n",
    "\n",
    "X_train, X_test, y_train, y_test = model_selection.train_test_split(X, y, train_size=0.8, random_state=0)\n",
    "\n",
    "#or\n",
    "#x_train,x_test,y_train,y_test = model_selection.train_test_split(feats,labels,test_size=0.2,random_state=42)"
   ]
  },
  {
   "cell_type": "markdown",
   "id": "cc79147a",
   "metadata": {
    "papermill": {
     "duration": 0.064108,
     "end_time": "2021-12-05T13:25:59.020481",
     "exception": false,
     "start_time": "2021-12-05T13:25:58.956373",
     "status": "completed"
    },
    "tags": []
   },
   "source": [
    "## Classification"
   ]
  },
  {
   "cell_type": "markdown",
   "id": "ec95c180",
   "metadata": {
    "papermill": {
     "duration": 0.064948,
     "end_time": "2021-12-05T13:25:59.151018",
     "exception": false,
     "start_time": "2021-12-05T13:25:59.086070",
     "status": "completed"
    },
    "tags": []
   },
   "source": [
    "We created this function to train some Dummy Classifiers and use them as a baseline for the MLP and SVM classifiers."
   ]
  },
  {
   "cell_type": "code",
   "execution_count": 14,
   "id": "b8a1ad09",
   "metadata": {
    "execution": {
     "iopub.execute_input": "2021-12-05T13:25:59.283678Z",
     "iopub.status.busy": "2021-12-05T13:25:59.282898Z",
     "iopub.status.idle": "2021-12-05T13:25:59.294846Z",
     "shell.execute_reply": "2021-12-05T13:25:59.295330Z",
     "shell.execute_reply.started": "2021-12-04T03:54:03.16283Z"
    },
    "papermill": {
     "duration": 0.080239,
     "end_time": "2021-12-05T13:25:59.295532",
     "exception": false,
     "start_time": "2021-12-05T13:25:59.215293",
     "status": "completed"
    },
    "tags": []
   },
   "outputs": [],
   "source": [
    "def DummyClassification(x_train,y_train,x_test,y_test):\n",
    "    \n",
    "    scores, predictions, fit_times, pred_times = {}, {}, {}, {}\n",
    "\n",
    "    ### Initialization ###\n",
    "    \n",
    "    dc_uniform  = DummyClassifier(strategy=\"uniform\")\n",
    "    dc_const_CT = DummyClassifier(strategy=\"constant\",constant='CT')\n",
    "    dc_const_T = DummyClassifier(strategy=\"constant\",constant='T')\n",
    "    dc_stratified = DummyClassifier(strategy=\"stratified\")\n",
    "    dc_frequent = DummyClassifier(strategy=\"most_frequent\")\n",
    "\n",
    "    ### Fit ###\n",
    "    \n",
    "    start_time = time.time()\n",
    "    dc_uniform.fit(x_train, y_train)\n",
    "    fit_times['uniform'] = time.time()-start_time\n",
    "    \n",
    "    start_time = time.time()\n",
    "    dc_const_CT.fit(x_train, y_train)\n",
    "    fit_times['const_CT'] = time.time()-start_time\n",
    "    \n",
    "    start_time = time.time()\n",
    "    dc_const_T.fit(x_train, y_train)\n",
    "    fit_times['const_T'] = time.time()-start_time\n",
    "    \n",
    "    start_time = time.time()\n",
    "    dc_stratified.fit(x_train, y_train)\n",
    "    fit_times['stratified'] = time.time()-start_time\n",
    "    \n",
    "    start_time = time.time()\n",
    "    dc_frequent.fit(x_train,y_train)\n",
    "    fit_times['frequent'] = time.time()-start_time\n",
    "    \n",
    "    ### Predict ###\n",
    "    \n",
    "    start_time = time.time()\n",
    "    predictions['uniform']  = dc_uniform.predict(x_test)\n",
    "    pred_times['uniform'] = time.time()-start_time\n",
    "    \n",
    "    start_time = time.time()\n",
    "    predictions['const_CT']  = dc_const_CT.predict(x_test)\n",
    "    pred_times['const_CT'] = time.time()-start_time\n",
    "    \n",
    "    start_time = time.time()\n",
    "    predictions['const_T']  = dc_const_T.predict(x_test)\n",
    "    pred_times['const_T'] = time.time()-start_time\n",
    "    \n",
    "    start_time = time.time()\n",
    "    predictions['stratified']  = dc_stratified.predict(x_test)\n",
    "    pred_times['stratified'] = time.time()-start_time\n",
    "    \n",
    "    start_time = time.time()\n",
    "    predictions['frequent'] = dc_frequent.predict(x_test)\n",
    "    pred_times['frequent'] = time.time()-start_time\n",
    "\n",
    "    ### Score ###\n",
    "    \n",
    "    scores['uniform']  = dc_uniform.score(x_test, y_test)\n",
    "    scores['const_CT']  = dc_const_CT.score(x_test, y_test)\n",
    "    scores['const_T']  = dc_const_T.score(x_test, y_test)\n",
    "    scores['stratified']  = dc_stratified.score(x_test, y_test)\n",
    "    scores['frequent'] = dc_frequent.score(x_test,y_test)\n",
    "    \n",
    "    return predictions, scores, fit_times, pred_times"
   ]
  },
  {
   "cell_type": "markdown",
   "id": "b19efc65",
   "metadata": {
    "papermill": {
     "duration": 0.063698,
     "end_time": "2021-12-05T13:25:59.423680",
     "exception": false,
     "start_time": "2021-12-05T13:25:59.359982",
     "status": "completed"
    },
    "tags": []
   },
   "source": [
    "## Out of The Box"
   ]
  },
  {
   "cell_type": "markdown",
   "id": "2be98d53",
   "metadata": {
    "papermill": {
     "duration": 0.066536,
     "end_time": "2021-12-05T13:25:59.555411",
     "exception": false,
     "start_time": "2021-12-05T13:25:59.488875",
     "status": "completed"
    },
    "tags": []
   },
   "source": [
    "### **Dummy**"
   ]
  },
  {
   "cell_type": "code",
   "execution_count": 15,
   "id": "9fc51685",
   "metadata": {
    "execution": {
     "iopub.execute_input": "2021-12-05T13:25:59.688761Z",
     "iopub.status.busy": "2021-12-05T13:25:59.688076Z",
     "iopub.status.idle": "2021-12-05T13:26:02.502969Z",
     "shell.execute_reply": "2021-12-05T13:26:02.502419Z",
     "shell.execute_reply.started": "2021-12-04T03:54:03.184456Z"
    },
    "papermill": {
     "duration": 2.883159,
     "end_time": "2021-12-05T13:26:02.503129",
     "exception": false,
     "start_time": "2021-12-05T13:25:59.619970",
     "status": "completed"
    },
    "tags": []
   },
   "outputs": [
    {
     "name": "stdout",
     "output_type": "stream",
     "text": [
      "Confusion Matrices of the Dummy Classifier: \n",
      "\n",
      "For strategy -> uniform:\n",
      " [[5876 6069]\n",
      " [6244 6293]]\n",
      "For strategy -> const_CT:\n",
      " [[11945     0]\n",
      " [12537     0]]\n",
      "For strategy -> const_T:\n",
      " [[    0 11945]\n",
      " [    0 12537]]\n",
      "For strategy -> stratified:\n",
      " [[5874 6071]\n",
      " [6204 6333]]\n",
      "For strategy -> frequent:\n",
      " [[    0 11945]\n",
      " [    0 12537]]\n",
      "\n",
      "F1 Score of the Dummy Classifier: \n",
      "\n",
      "For strategy -> uniform:\n",
      "\tMicro: 0.49705906380197695\n",
      "\tMacro: 0.4969131080130943\n",
      "\n",
      "For strategy -> const_CT:\n",
      "\tMicro: 0.4879094845192386\n",
      "\tMacro: 0.3279161061849727\n",
      "\n",
      "For strategy -> const_T:\n",
      "\tMicro: 0.5120905154807613\n",
      "\tMacro: 0.33866392933358547\n",
      "\n",
      "For strategy -> stratified:\n",
      "\tMicro: 0.49861122457315576\n",
      "\tMacro: 0.49843492190919103\n",
      "\n",
      "For strategy -> frequent:\n",
      "\tMicro: 0.5120905154807613\n",
      "\tMacro: 0.33866392933358547\n",
      "\n",
      "\n",
      "Accuracy of the Dummy Classifier: \n",
      "\n",
      "For strategy -> uniform: 0.49395474225961933\n",
      "For strategy -> const_CT: 0.4879094845192386\n",
      "For strategy -> const_T: 0.5120905154807613\n",
      "For strategy -> stratified: 0.5015930071072625\n",
      "For strategy -> frequent: 0.5120905154807613\n"
     ]
    }
   ],
   "source": [
    "predictions, accuracies, _, _ = DummyClassification(X_train, y_train, X_test, y_test)\n",
    "\n",
    "print(\"Confusion Matrices of the Dummy Classifier: \\n\")\n",
    "for strategy in predictions:\n",
    "    print(f'For strategy -> {strategy}:\\n {confusion_matrix(y_test, predictions[strategy])}')\n",
    "\n",
    "print(\"\\nF1 Score of the Dummy Classifier: \\n\")\n",
    "for strategy in predictions:\n",
    "    print(f'For strategy -> {strategy}:')\n",
    "    print(f'\\tMicro: {f1_score(y_test, predictions[strategy], average = \"micro\")}')\n",
    "    print(f'\\tMacro: {f1_score(y_test, predictions[strategy], average = \"macro\")}\\n')\n",
    "\n",
    "print(\"\\nAccuracy of the Dummy Classifier: \\n\")\n",
    "for strategy in accuracies:\n",
    "    print(f'For strategy -> {strategy}: {accuracies[strategy]}')"
   ]
  },
  {
   "cell_type": "markdown",
   "id": "c784db4c",
   "metadata": {
    "papermill": {
     "duration": 0.068074,
     "end_time": "2021-12-05T13:26:02.639862",
     "exception": false,
     "start_time": "2021-12-05T13:26:02.571788",
     "status": "completed"
    },
    "tags": []
   },
   "source": [
    "### **MLP**"
   ]
  },
  {
   "cell_type": "code",
   "execution_count": 16,
   "id": "8205d107",
   "metadata": {
    "execution": {
     "iopub.execute_input": "2021-12-05T13:26:02.780269Z",
     "iopub.status.busy": "2021-12-05T13:26:02.779622Z",
     "iopub.status.idle": "2021-12-05T13:26:02.781646Z",
     "shell.execute_reply": "2021-12-05T13:26:02.782050Z",
     "shell.execute_reply.started": "2021-12-04T03:54:07.766853Z"
    },
    "papermill": {
     "duration": 0.076105,
     "end_time": "2021-12-05T13:26:02.782257",
     "exception": false,
     "start_time": "2021-12-05T13:26:02.706152",
     "status": "completed"
    },
    "tags": []
   },
   "outputs": [],
   "source": [
    "mlp = neural_network.MLPClassifier()"
   ]
  },
  {
   "cell_type": "code",
   "execution_count": 17,
   "id": "40017bbb",
   "metadata": {
    "execution": {
     "iopub.execute_input": "2021-12-05T13:26:03.461761Z",
     "iopub.status.busy": "2021-12-05T13:26:03.460406Z",
     "iopub.status.idle": "2021-12-05T13:27:16.329028Z",
     "shell.execute_reply": "2021-12-05T13:27:16.329633Z",
     "shell.execute_reply.started": "2021-12-04T03:54:07.773816Z"
    },
    "papermill": {
     "duration": 73.480757,
     "end_time": "2021-12-05T13:27:16.329849",
     "exception": false,
     "start_time": "2021-12-05T13:26:02.849092",
     "status": "completed"
    },
    "tags": []
   },
   "outputs": [
    {
     "name": "stdout",
     "output_type": "stream",
     "text": [
      "Confusion Matrices of the MLP Classifier:\n",
      " [[ 5886  6059]\n",
      " [ 1557 10980]]\n",
      "\n",
      "F1 Score of the MLP Classifier: \n",
      "\n",
      "\tMicro: 0.6889143043868965\n",
      "\tMacro: 0.6748368063835319\n",
      "\n",
      "\n",
      "Accuracy of the MLP Classifier: \n",
      "\n",
      "0.6889143043868965\n"
     ]
    }
   ],
   "source": [
    "mlp.fit(X_train, y_train)\n",
    "predictions['mlp'] = mlp.predict(X_test)\n",
    "accuracies['mlp'] = mlp.score(X_test, y_test)\n",
    "\n",
    "print(f'Confusion Matrices of the MLP Classifier:\\n {confusion_matrix(y_test, predictions[\"mlp\"])}')\n",
    "\n",
    "print(\"\\nF1 Score of the MLP Classifier: \\n\")\n",
    "print(f'\\tMicro: {f1_score(y_test, predictions[\"mlp\"], average = \"micro\")}')\n",
    "print(f'\\tMacro: {f1_score(y_test, predictions[\"mlp\"], average = \"macro\")}\\n')\n",
    "\n",
    "print(\"\\nAccuracy of the MLP Classifier: \\n\")\n",
    "print(f'{accuracies[\"mlp\"]}')"
   ]
  },
  {
   "cell_type": "code",
   "execution_count": 18,
   "id": "2a463ed6",
   "metadata": {
    "execution": {
     "iopub.execute_input": "2021-12-05T13:27:16.535909Z",
     "iopub.status.busy": "2021-12-05T13:27:16.534974Z",
     "iopub.status.idle": "2021-12-05T13:36:06.538639Z",
     "shell.execute_reply": "2021-12-05T13:36:06.539151Z",
     "shell.execute_reply.started": "2021-12-04T03:54:07.786872Z"
    },
    "papermill": {
     "duration": 530.139908,
     "end_time": "2021-12-05T13:36:06.539363",
     "exception": false,
     "start_time": "2021-12-05T13:27:16.399455",
     "status": "completed"
    },
    "tags": []
   },
   "outputs": [
    {
     "name": "stdout",
     "output_type": "stream",
     "text": [
      "average: 0.7040372099518863\n"
     ]
    }
   ],
   "source": [
    "mlp_validate = model_selection.cross_validate(mlp, X_train, y = y_train, cv = 10, return_train_score = True, scoring = ['accuracy'])\n",
    "print(\"average:\", np.mean(np.array(mlp_validate[\"test_accuracy\"])))"
   ]
  },
  {
   "cell_type": "markdown",
   "id": "bc8d8733",
   "metadata": {
    "papermill": {
     "duration": 0.065082,
     "end_time": "2021-12-05T13:36:06.670867",
     "exception": false,
     "start_time": "2021-12-05T13:36:06.605785",
     "status": "completed"
    },
    "tags": []
   },
   "source": [
    "### **SVC**"
   ]
  },
  {
   "cell_type": "code",
   "execution_count": 19,
   "id": "7706354a",
   "metadata": {
    "execution": {
     "iopub.execute_input": "2021-12-05T13:36:06.806122Z",
     "iopub.status.busy": "2021-12-05T13:36:06.805554Z",
     "iopub.status.idle": "2021-12-05T13:36:06.808596Z",
     "shell.execute_reply": "2021-12-05T13:36:06.809128Z",
     "shell.execute_reply.started": "2021-12-04T03:54:07.798461Z"
    },
    "papermill": {
     "duration": 0.073073,
     "end_time": "2021-12-05T13:36:06.809313",
     "exception": false,
     "start_time": "2021-12-05T13:36:06.736240",
     "status": "completed"
    },
    "tags": []
   },
   "outputs": [],
   "source": [
    "svm = SVC()"
   ]
  },
  {
   "cell_type": "code",
   "execution_count": 20,
   "id": "af14a937",
   "metadata": {
    "execution": {
     "iopub.execute_input": "2021-12-05T13:36:06.944483Z",
     "iopub.status.busy": "2021-12-05T13:36:06.943852Z",
     "iopub.status.idle": "2021-12-05T14:09:07.359149Z",
     "shell.execute_reply": "2021-12-05T14:09:07.358522Z",
     "shell.execute_reply.started": "2021-12-04T03:54:07.80943Z"
    },
    "papermill": {
     "duration": 1980.484749,
     "end_time": "2021-12-05T14:09:07.359503",
     "exception": false,
     "start_time": "2021-12-05T13:36:06.874754",
     "status": "completed"
    },
    "tags": []
   },
   "outputs": [
    {
     "name": "stdout",
     "output_type": "stream",
     "text": [
      "Confusion Matrices of the SVM Classifier:\n",
      " [[8648 3297]\n",
      " [3416 9121]]\n",
      "\n",
      "F1 Score of the SVM Classifier: \n",
      "\n",
      "\tMicro: 0.7257985458704355\n",
      "\tMacro: 0.7256961551993972\n",
      "\n",
      "\n",
      "Accuracy of the SVM Classifier: \n",
      "\n",
      "0.7257985458704355\n"
     ]
    }
   ],
   "source": [
    "svm.fit(X_train, y_train)\n",
    "predictions['svm'] = svm.predict(X_test)\n",
    "accuracies['svm'] = svm.score(X_test, y_test)\n",
    "\n",
    "print(f'Confusion Matrices of the SVM Classifier:\\n {confusion_matrix(y_test, predictions[\"svm\"])}')\n",
    "\n",
    "print(\"\\nF1 Score of the SVM Classifier: \\n\")\n",
    "print(f'\\tMicro: {f1_score(y_test, predictions[\"svm\"], average = \"micro\")}')\n",
    "print(f'\\tMacro: {f1_score(y_test, predictions[\"svm\"], average = \"macro\")}\\n')\n",
    "\n",
    "print(\"\\nAccuracy of the SVM Classifier: \\n\")\n",
    "print(f'{accuracies[\"svm\"]}')"
   ]
  },
  {
   "cell_type": "code",
   "execution_count": 21,
   "id": "2b1fd69d",
   "metadata": {
    "execution": {
     "iopub.execute_input": "2021-12-05T14:09:07.569632Z",
     "iopub.status.busy": "2021-12-05T14:09:07.568650Z",
     "iopub.status.idle": "2021-12-05T19:59:37.206270Z",
     "shell.execute_reply": "2021-12-05T19:59:37.206763Z",
     "shell.execute_reply.started": "2021-12-04T03:54:07.822053Z"
    },
    "papermill": {
     "duration": 21029.776063,
     "end_time": "2021-12-05T19:59:37.206946",
     "exception": false,
     "start_time": "2021-12-05T14:09:07.430883",
     "status": "completed"
    },
    "tags": []
   },
   "outputs": [
    {
     "name": "stdout",
     "output_type": "stream",
     "text": [
      "average: 0.7213871158720815\n"
     ]
    }
   ],
   "source": [
    "svm_validate = model_selection.cross_validate(svm, X_train, y = y_train, cv = 10, return_train_score = True, scoring = ['accuracy'])\n",
    "print(\"average:\", np.mean(np.array(svm_validate[\"test_accuracy\"])))"
   ]
  },
  {
   "cell_type": "markdown",
   "id": "09e7d53b",
   "metadata": {
    "papermill": {
     "duration": 0.065881,
     "end_time": "2021-12-05T19:59:37.339512",
     "exception": false,
     "start_time": "2021-12-05T19:59:37.273631",
     "status": "completed"
    },
    "tags": []
   },
   "source": [
    "### **SGD**"
   ]
  },
  {
   "cell_type": "code",
   "execution_count": 22,
   "id": "68e7eb2c",
   "metadata": {
    "execution": {
     "iopub.execute_input": "2021-12-05T19:59:37.475886Z",
     "iopub.status.busy": "2021-12-05T19:59:37.475268Z",
     "iopub.status.idle": "2021-12-05T19:59:37.478771Z",
     "shell.execute_reply": "2021-12-05T19:59:37.479353Z",
     "shell.execute_reply.started": "2021-12-04T03:54:07.837591Z"
    },
    "papermill": {
     "duration": 0.073523,
     "end_time": "2021-12-05T19:59:37.479537",
     "exception": false,
     "start_time": "2021-12-05T19:59:37.406014",
     "status": "completed"
    },
    "tags": []
   },
   "outputs": [],
   "source": [
    "sgd = SGDClassifier()"
   ]
  },
  {
   "cell_type": "code",
   "execution_count": 23,
   "id": "225c537c",
   "metadata": {
    "execution": {
     "iopub.execute_input": "2021-12-05T19:59:37.620428Z",
     "iopub.status.busy": "2021-12-05T19:59:37.616313Z",
     "iopub.status.idle": "2021-12-05T19:59:50.435699Z",
     "shell.execute_reply": "2021-12-05T19:59:50.436297Z",
     "shell.execute_reply.started": "2021-12-04T03:54:07.850362Z"
    },
    "papermill": {
     "duration": 12.890391,
     "end_time": "2021-12-05T19:59:50.436471",
     "exception": false,
     "start_time": "2021-12-05T19:59:37.546080",
     "status": "completed"
    },
    "tags": []
   },
   "outputs": [
    {
     "name": "stdout",
     "output_type": "stream",
     "text": [
      "Confusion Matrices of the SGD Classifier:\n",
      " [[8179 3766]\n",
      " [2919 9618]]\n",
      "\n",
      "F1 Score of the SGD Classifier: \n",
      "\n",
      "\tMicro: 0.7269422432807776\n",
      "\tMacro: 0.7259956022291287\n",
      "\n",
      "\n",
      "Accuracy of the SGD Classifier: \n",
      "\n",
      "0.7269422432807777\n"
     ]
    }
   ],
   "source": [
    "sgd.fit(X_train, y_train)\n",
    "predictions['sgd'] = sgd.predict(X_test)\n",
    "accuracies['sgd'] = sgd.score(X_test, y_test)\n",
    "\n",
    "print(f'Confusion Matrices of the SGD Classifier:\\n {confusion_matrix(y_test, predictions[\"sgd\"])}')\n",
    "\n",
    "print(\"\\nF1 Score of the SGD Classifier: \\n\")\n",
    "print(f'\\tMicro: {f1_score(y_test, predictions[\"sgd\"], average = \"micro\")}')\n",
    "print(f'\\tMacro: {f1_score(y_test, predictions[\"sgd\"], average = \"macro\")}\\n')\n",
    "\n",
    "print(\"\\nAccuracy of the SGD Classifier: \\n\")\n",
    "print(f'{accuracies[\"sgd\"]}')"
   ]
  },
  {
   "cell_type": "code",
   "execution_count": 24,
   "id": "3c90896c",
   "metadata": {
    "execution": {
     "iopub.execute_input": "2021-12-05T19:59:50.573623Z",
     "iopub.status.busy": "2021-12-05T19:59:50.572945Z",
     "iopub.status.idle": "2021-12-05T20:02:08.995569Z",
     "shell.execute_reply": "2021-12-05T20:02:08.996038Z",
     "shell.execute_reply.started": "2021-12-04T03:54:23.535315Z"
    },
    "papermill": {
     "duration": 138.49229,
     "end_time": "2021-12-05T20:02:08.996231",
     "exception": false,
     "start_time": "2021-12-05T19:59:50.503941",
     "status": "completed"
    },
    "tags": []
   },
   "outputs": [
    {
     "name": "stdout",
     "output_type": "stream",
     "text": [
      "average: 0.6566769412375386\n"
     ]
    }
   ],
   "source": [
    "sgd_validate = model_selection.cross_validate(sgd, X_train, y = y_train, cv = 10, return_train_score = True, scoring = ['accuracy'])\n",
    "print(\"average:\", np.mean(np.array(sgd_validate[\"test_accuracy\"])))"
   ]
  },
  {
   "cell_type": "markdown",
   "id": "43333d6a",
   "metadata": {
    "papermill": {
     "duration": 0.066767,
     "end_time": "2021-12-05T20:02:09.130362",
     "exception": false,
     "start_time": "2021-12-05T20:02:09.063595",
     "status": "completed"
    },
    "tags": []
   },
   "source": [
    "### Bar Plot"
   ]
  },
  {
   "cell_type": "code",
   "execution_count": 25,
   "id": "a6c073e2",
   "metadata": {
    "execution": {
     "iopub.execute_input": "2021-12-05T20:02:09.271741Z",
     "iopub.status.busy": "2021-12-05T20:02:09.271123Z",
     "iopub.status.idle": "2021-12-05T20:02:12.382686Z",
     "shell.execute_reply": "2021-12-05T20:02:12.383156Z",
     "shell.execute_reply.started": "2021-12-04T03:56:49.825557Z"
    },
    "papermill": {
     "duration": 3.18612,
     "end_time": "2021-12-05T20:02:12.383341",
     "exception": false,
     "start_time": "2021-12-05T20:02:09.197221",
     "status": "completed"
    },
    "tags": []
   },
   "outputs": [
    {
     "data": {
      "image/png": "[encoded data removed]",
      "text/plain": [
       "<Figure size 1332x756 with 1 Axes>"
      ]
     },
     "metadata": {
      "needs_background": "light"
     },
     "output_type": "display_data"
    }
   ],
   "source": [
    "f1_macros, f1_micros, labels = [],[],[]\n",
    "for clf in predictions:  \n",
    "    f1_micros.append(f1_score(y_test,predictions[clf],average='micro'))\n",
    "    f1_macros.append(f1_score(y_test,predictions[clf],average='macro'))\n",
    "    labels.append(clf)\n",
    "\n",
    "x = np.arange(len(labels))\n",
    "width = 0.25\n",
    "\n",
    "fig, ax = plt.subplots()\n",
    "rects1 = ax.bar(x - width/2, f1_micros, width, label='f1_micros')\n",
    "rects2 = ax.bar(x + width/2, f1_macros, width, label='f1_macros')\n",
    "\n",
    "fig.set_size_inches(18.5, 10.5)\n",
    "ax.set_ylabel('Scores')\n",
    "ax.set_title('Performance Comparison on F1-Score')\n",
    "ax.set_xticks(x)\n",
    "ax.set_xticklabels(labels)\n",
    "ax.legend()\n",
    "\n",
    "plt.show()"
   ]
  },
  {
   "cell_type": "code",
   "execution_count": 26,
   "id": "f9317b49",
   "metadata": {
    "execution": {
     "iopub.execute_input": "2021-12-05T20:02:12.527066Z",
     "iopub.status.busy": "2021-12-05T20:02:12.522347Z",
     "iopub.status.idle": "2021-12-05T20:02:12.768194Z",
     "shell.execute_reply": "2021-12-05T20:02:12.768659Z",
     "shell.execute_reply.started": "2021-12-04T03:56:49.834192Z"
    },
    "papermill": {
     "duration": 0.31719,
     "end_time": "2021-12-05T20:02:12.768838",
     "exception": false,
     "start_time": "2021-12-05T20:02:12.451648",
     "status": "completed"
    },
    "tags": []
   },
   "outputs": [
    {
     "data": {
      "image/png": "[encoded data removed]",
      "text/plain": [
       "<Figure size 1332x756 with 1 Axes>"
      ]
     },
     "metadata": {
      "needs_background": "light"
     },
     "output_type": "display_data"
    }
   ],
   "source": [
    "scores, acc_labels = [],[]\n",
    "for clf in accuracies:  \n",
    "    scores.append(accuracies[clf])\n",
    "    acc_labels.append(clf)\n",
    "\n",
    "x = np.arange(len(acc_labels))\n",
    "width = 0.25\n",
    "\n",
    "fig, ax = plt.subplots()\n",
    "rects1 = ax.bar(x, scores, width, label='accuracy')\n",
    "\n",
    "fig.set_size_inches(18.5, 10.5)\n",
    "ax.set_ylabel('Scores')\n",
    "ax.set_title('Performance Comparison on Accuracy')\n",
    "ax.set_xticks(x)\n",
    "ax.set_xticklabels(acc_labels)\n",
    "ax.legend()\n",
    "\n",
    "plt.show()"
   ]
  },
  {
   "cell_type": "markdown",
   "id": "efee6e0a",
   "metadata": {
    "papermill": {
     "duration": 0.070191,
     "end_time": "2021-12-05T20:02:12.909669",
     "exception": false,
     "start_time": "2021-12-05T20:02:12.839478",
     "status": "completed"
    },
    "tags": []
   },
   "source": [
    "### Markdown Table"
   ]
  },
  {
   "cell_type": "markdown",
   "id": "cf6fd17c",
   "metadata": {
    "papermill": {
     "duration": 0.068758,
     "end_time": "2021-12-05T20:02:13.048660",
     "exception": false,
     "start_time": "2021-12-05T20:02:12.979902",
     "status": "completed"
    },
    "tags": []
   },
   "source": [
    "| Classifier | F1 Score (Micro) | F1 Score (Macro) | Accuracy| Cross Validation\n",
    "|:----:|:------:|:-------:|:--------:|:--------:|\n",
    "| **dc_uniform**       |         0.4982 |     0.4982     |0.5|-|\n",
    "| **dc_const_CT**     |      0.4879 |    0.3279    |0.4879|-|\n",
    "| **dc_const_T**       |        0.5121 |     0.3387     |0.5121|-|\n",
    "| **dc_stratified**         |          0.4955 |      0.4954      | 0.4960|-|\n",
    "| **dc_frequent**       |       0.5121 |    0.3387   |0.5121|-|\n",
    "| **mlp**    |     0.7237 |    0.7129   |0.7238|0.7456|\n",
    "| **svc**    |     0.7798 |    0.7625   |0.7798|0.7893|\n",
    "| **sgd**    |     0.6431 |    0.6409   |0.6431|0.6516|"
   ]
  },
  {
   "cell_type": "markdown",
   "id": "965f01f3",
   "metadata": {
    "papermill": {
     "duration": 0.067603,
     "end_time": "2021-12-05T20:02:13.184535",
     "exception": false,
     "start_time": "2021-12-05T20:02:13.116932",
     "status": "completed"
    },
    "tags": []
   },
   "source": [
    "## Optimization"
   ]
  },
  {
   "cell_type": "code",
   "execution_count": 27,
   "id": "5db1053b",
   "metadata": {
    "execution": {
     "iopub.execute_input": "2021-12-05T20:02:13.324743Z",
     "iopub.status.busy": "2021-12-05T20:02:13.323793Z",
     "iopub.status.idle": "2021-12-05T20:02:13.328747Z",
     "shell.execute_reply": "2021-12-05T20:02:13.329304Z",
     "shell.execute_reply.started": "2021-12-04T03:56:49.847639Z"
    },
    "papermill": {
     "duration": 0.077017,
     "end_time": "2021-12-05T20:02:13.329465",
     "exception": false,
     "start_time": "2021-12-05T20:02:13.252448",
     "status": "completed"
    },
    "tags": []
   },
   "outputs": [],
   "source": [
    "scaler = preprocessing.RobustScaler()\n",
    "pca = decomposition.PCA()\n",
    "selector = feature_selection.VarianceThreshold()\n",
    "mlp = neural_network.MLPClassifier()\n",
    "svm = SVC()\n",
    "sgd = SGDClassifier()"
   ]
  },
  {
   "cell_type": "code",
   "execution_count": 28,
   "id": "a582dad9",
   "metadata": {
    "execution": {
     "iopub.execute_input": "2021-12-05T20:02:13.469900Z",
     "iopub.status.busy": "2021-12-05T20:02:13.468967Z",
     "iopub.status.idle": "2021-12-05T20:02:13.878177Z",
     "shell.execute_reply": "2021-12-05T20:02:13.878689Z",
     "shell.execute_reply.started": "2021-12-04T03:56:49.860771Z"
    },
    "papermill": {
     "duration": 0.480766,
     "end_time": "2021-12-05T20:02:13.878861",
     "exception": false,
     "start_time": "2021-12-05T20:02:13.398095",
     "status": "completed"
    },
    "tags": []
   },
   "outputs": [],
   "source": [
    "X_train_copy = X_train\n",
    "y_train_copy = y_train\n",
    "X_test_copy  = X_test\n",
    "y_test_copy  = y_test\n",
    "\n",
    "X_train_sample, y_train_sample = shuffle(X_train, y_train, random_state=3)\n",
    "X_train_sample = X_train_sample.to_numpy()[0:2000,:]\n",
    "y_train_sample = y_train_sample.to_numpy()[0:2000]"
   ]
  },
  {
   "cell_type": "code",
   "execution_count": 29,
   "id": "8767b557",
   "metadata": {
    "execution": {
     "iopub.execute_input": "2021-12-05T20:02:14.021420Z",
     "iopub.status.busy": "2021-12-05T20:02:14.020795Z",
     "iopub.status.idle": "2021-12-05T20:02:14.022945Z",
     "shell.execute_reply": "2021-12-05T20:02:14.023433Z",
     "shell.execute_reply.started": "2021-12-04T03:56:50.533344Z"
    },
    "papermill": {
     "duration": 0.075739,
     "end_time": "2021-12-05T20:02:14.023605",
     "exception": false,
     "start_time": "2021-12-05T20:02:13.947866",
     "status": "completed"
    },
    "tags": []
   },
   "outputs": [],
   "source": [
    "fit_times, pred_times, new_predictions, new_accuracies = {}, {}, {}, {}"
   ]
  },
  {
   "cell_type": "code",
   "execution_count": 30,
   "id": "4b931d74",
   "metadata": {
    "execution": {
     "iopub.execute_input": "2021-12-05T20:02:14.166039Z",
     "iopub.status.busy": "2021-12-05T20:02:14.165467Z",
     "iopub.status.idle": "2021-12-05T20:02:14.168584Z",
     "shell.execute_reply": "2021-12-05T20:02:14.169084Z",
     "shell.execute_reply.started": "2021-12-04T03:56:50.54071Z"
    },
    "papermill": {
     "duration": 0.075543,
     "end_time": "2021-12-05T20:02:14.169273",
     "exception": false,
     "start_time": "2021-12-05T20:02:14.093730",
     "status": "completed"
    },
    "tags": []
   },
   "outputs": [],
   "source": [
    "for strategy in predictions:\n",
    "    new_predictions[strategy] = predictions[strategy]\n",
    "for strategy in accuracies:\n",
    "    new_accuracies[strategy] = accuracies[strategy]"
   ]
  },
  {
   "cell_type": "markdown",
   "id": "2092df28",
   "metadata": {
    "papermill": {
     "duration": 0.067944,
     "end_time": "2021-12-05T20:02:14.305792",
     "exception": false,
     "start_time": "2021-12-05T20:02:14.237848",
     "status": "completed"
    },
    "tags": []
   },
   "source": [
    "### **MLP**"
   ]
  },
  {
   "cell_type": "code",
   "execution_count": 31,
   "id": "8f271004",
   "metadata": {
    "execution": {
     "iopub.execute_input": "2021-12-05T20:02:14.446010Z",
     "iopub.status.busy": "2021-12-05T20:02:14.445074Z",
     "iopub.status.idle": "2021-12-05T20:02:14.451453Z",
     "shell.execute_reply": "2021-12-05T20:02:14.451929Z",
     "shell.execute_reply.started": "2021-12-04T03:56:50.554611Z"
    },
    "papermill": {
     "duration": 0.078064,
     "end_time": "2021-12-05T20:02:14.452103",
     "exception": false,
     "start_time": "2021-12-05T20:02:14.374039",
     "status": "completed"
    },
    "tags": []
   },
   "outputs": [],
   "source": [
    "mlp_hidden_layers = [(i,2) for i in range(8,512,64)]\n",
    "mlp_activation = ['logistic','identity','tanh','relu']    # ['logistic','identity','tanh','relu']\n",
    "mlp_solver = ['lbfgs', 'sgd', 'adam']           # ['lbfgs', 'sgd', 'adam']\n",
    "mlp_max_iter = np.arange(50,400,50)\n",
    "mlp_learning_rate = ['constant', 'invscaling', 'adaptive'] # ['constant', 'invscaling', 'adaptive']\n",
    "alpha = np.geomspace(1e-8,1e-3,5)\n",
    "n_components = np.arange(5,11)"
   ]
  },
  {
   "cell_type": "code",
   "execution_count": 32,
   "id": "b66a2b03",
   "metadata": {
    "execution": {
     "iopub.execute_input": "2021-12-05T20:02:14.592774Z",
     "iopub.status.busy": "2021-12-05T20:02:14.591869Z",
     "iopub.status.idle": "2021-12-05T20:02:14.596423Z",
     "shell.execute_reply": "2021-12-05T20:02:14.595901Z",
     "shell.execute_reply.started": "2021-12-04T03:56:50.569759Z"
    },
    "papermill": {
     "duration": 0.075963,
     "end_time": "2021-12-05T20:02:14.596556",
     "exception": false,
     "start_time": "2021-12-05T20:02:14.520593",
     "status": "completed"
    },
    "tags": []
   },
   "outputs": [],
   "source": [
    "# pipe = Pipeline(steps=[('scaler', scaler), ('selector', selector), ('pca', pca), ('mlp', mlp)])\n",
    "# mlp_estimator = model_selection.GridSearchCV(pipe, dict(pca__n_components = n_components,\n",
    "#                                             mlp__hidden_layer_sizes=mlp_hidden_layers,\n",
    "#                                             mlp__activation=mlp_activation,\n",
    "#                                             mlp__solver=mlp_solver,\n",
    "#                                             mlp__alpha=alpha,\n",
    "#                                             mlp__learning_rate=mlp_learning_rate,\n",
    "#                                             mlp__max_iter=mlp_max_iter), cv=5, scoring='f1_macro', n_jobs=-1,\n",
    "#                                                                                                    verbose=1)\n",
    "# mlp_estimator.fit(X_train_sample,y_train_sample)\n",
    "# preds = mlp_estimator.predict(X_test)\n",
    "# print(\"Best parameters\",mlp_estimator.best_params_)"
   ]
  },
  {
   "cell_type": "markdown",
   "id": "dfea2cd3",
   "metadata": {
    "papermill": {
     "duration": 0.068602,
     "end_time": "2021-12-05T20:02:14.734160",
     "exception": false,
     "start_time": "2021-12-05T20:02:14.665558",
     "status": "completed"
    },
    "tags": []
   },
   "source": [
    "This took about 6 hours and produced 95000 out of the 304000 expected fits. We are trying another method."
   ]
  },
  {
   "cell_type": "code",
   "execution_count": 33,
   "id": "5970657c",
   "metadata": {
    "execution": {
     "iopub.execute_input": "2021-12-05T20:02:14.877097Z",
     "iopub.status.busy": "2021-12-05T20:02:14.876322Z",
     "iopub.status.idle": "2021-12-05T20:02:14.879043Z",
     "shell.execute_reply": "2021-12-05T20:02:14.878579Z",
     "shell.execute_reply.started": "2021-12-04T03:56:50.581577Z"
    },
    "papermill": {
     "duration": 0.076533,
     "end_time": "2021-12-05T20:02:14.879181",
     "exception": false,
     "start_time": "2021-12-05T20:02:14.802648",
     "status": "completed"
    },
    "tags": []
   },
   "outputs": [],
   "source": [
    "mlp_solver = ['lbfgs', 'sgd', 'adam']\n",
    "mlp_activation = ['logistic','identity','tanh','relu']\n",
    "mlp_learning_rate = ['constant', 'invscaling', 'adaptive'] \n",
    "mlp_hidden_layer_sizes = [(100,100,100),(200,100)]"
   ]
  },
  {
   "cell_type": "code",
   "execution_count": 34,
   "id": "56267f8b",
   "metadata": {
    "execution": {
     "iopub.execute_input": "2021-12-05T20:02:15.020987Z",
     "iopub.status.busy": "2021-12-05T20:02:15.020007Z",
     "iopub.status.idle": "2021-12-05T20:09:14.070423Z",
     "shell.execute_reply": "2021-12-05T20:09:14.069499Z",
     "shell.execute_reply.started": "2021-12-04T03:56:50.595593Z"
    },
    "papermill": {
     "duration": 419.122747,
     "end_time": "2021-12-05T20:09:14.070691",
     "exception": false,
     "start_time": "2021-12-05T20:02:14.947944",
     "status": "completed"
    },
    "tags": []
   },
   "outputs": [
    {
     "data": {
      "text/html": [
       "== Status ==<br>Memory usage on this node: 3.2/17.6 GiB<br>Using FIFO scheduling algorithm.<br>Resources requested: 0/4 CPUs, 0/0 GPUs, 0.0/8.41 GiB heap, 0.0/4.2 GiB objects<br>Current best trial: 401f4_00003 with average_test_score=0.7037201537655889 and parameters={'early_stopping': False, 'early_stop_type': <EarlyStopping.NO_EARLY_STOP: 7>, 'X_id': ObjectRef(ffffffffffffffffffffffffffffffffffffffff0100000001000000), 'y_id': ObjectRef(ffffffffffffffffffffffffffffffffffffffff0100000002000000), 'groups': None, 'cv': StratifiedKFold(n_splits=5, random_state=None, shuffle=False), 'fit_params': {}, 'scoring': {'score': make_scorer(f1_score, pos_label=None, average=macro)}, 'max_iters': 1, 'return_train_score': False, 'n_jobs': 1, 'metric_name': 'average_test_score', 'mlp__activation': 'relu', 'mlp__solver': 'lbfgs', 'mlp__learning_rate': 'constant', 'mlp__hidden_layer_sizes': (100, 100, 100), 'estimator_ids': [ObjectRef(ffffffffffffffffffffffffffffffffffffffff0100000003000000)]}<br>Result logdir: /root/ray_results/_Trainable_2021-12-05_20-02-18<br>Number of trials: 72/72 (72 TERMINATED)<br><br>"
      ],
      "text/plain": [
       "<IPython.core.display.HTML object>"
      ]
     },
     "metadata": {},
     "output_type": "display_data"
    },
    {
     "name": "stderr",
     "output_type": "stream",
     "text": [
      "/opt/conda/lib/python3.7/site-packages/sklearn/neural_network/_multilayer_perceptron.py:549: ConvergenceWarning: lbfgs failed to converge (status=2):\n",
      "ABNORMAL_TERMINATION_IN_LNSRCH.\n",
      "\n",
      "Increase the number of iterations (max_iter) or scale the data as shown in:\n",
      "    https://scikit-learn.org/stable/modules/preprocessing.html\n",
      "  self.n_iter_ = _check_optimize_result(\"lbfgs\", opt_res, self.max_iter)\n",
      "/opt/conda/lib/python3.7/site-packages/sklearn/base.py:439: UserWarning: X has feature names, but MLPClassifier was fitted without feature names\n",
      "  f\"X has feature names, but {self.__class__.__name__} was fitted without\"\n"
     ]
    },
    {
     "name": "stdout",
     "output_type": "stream",
     "text": [
      "Best parameters with Ray {'mlp__activation': 'relu', 'mlp__solver': 'lbfgs', 'mlp__learning_rate': 'constant', 'mlp__hidden_layer_sizes': (100, 100, 100)}\n"
     ]
    }
   ],
   "source": [
    "pipe = Pipeline(steps=[('mlp', mlp)])\n",
    "ray_mlp_estimator = TuneGridSearchCV(pipe, dict(mlp__activation=mlp_activation,\n",
    "                                            mlp__solver=mlp_solver,\n",
    "                                            mlp__learning_rate=mlp_learning_rate,\n",
    "                                               mlp__hidden_layer_sizes=mlp_hidden_layer_sizes), cv=5, scoring='f1_macro', n_jobs=-1,\n",
    "                                                                                                   verbose=1)\n",
    "ray_mlp_estimator.fit(X_train_sample,y_train_sample)\n",
    "preds = ray_mlp_estimator.predict(X_test)\n",
    "print(\"Best parameters with Ray\",ray_mlp_estimator.best_params_)"
   ]
  },
  {
   "cell_type": "markdown",
   "id": "7eb00230",
   "metadata": {
    "papermill": {
     "duration": 0.07262,
     "end_time": "2021-12-05T20:09:14.270105",
     "exception": false,
     "start_time": "2021-12-05T20:09:14.197485",
     "status": "completed"
    },
    "tags": []
   },
   "source": [
    "Same methodology on the whole set."
   ]
  },
  {
   "cell_type": "code",
   "execution_count": 35,
   "id": "4028d8ed",
   "metadata": {
    "execution": {
     "iopub.execute_input": "2021-12-05T20:09:14.423608Z",
     "iopub.status.busy": "2021-12-05T20:09:14.422971Z",
     "iopub.status.idle": "2021-12-05T20:09:14.425847Z",
     "shell.execute_reply": "2021-12-05T20:09:14.425401Z",
     "shell.execute_reply.started": "2021-12-04T03:56:50.614371Z"
    },
    "papermill": {
     "duration": 0.078142,
     "end_time": "2021-12-05T20:09:14.425982",
     "exception": false,
     "start_time": "2021-12-05T20:09:14.347840",
     "status": "completed"
    },
    "tags": []
   },
   "outputs": [],
   "source": [
    "mlp_solver = ['adam', 'lbfgs']\n",
    "mlp_activation = ['logistic']\n",
    "mlp_learning_rate = ['constant'] \n",
    "mlp_hidden_layer_sizes = [(100,100,100)]"
   ]
  },
  {
   "cell_type": "code",
   "execution_count": 36,
   "id": "a25e7010",
   "metadata": {
    "execution": {
     "iopub.execute_input": "2021-12-05T20:09:14.572841Z",
     "iopub.status.busy": "2021-12-05T20:09:14.572228Z",
     "iopub.status.idle": "2021-12-05T20:22:36.098089Z",
     "shell.execute_reply": "2021-12-05T20:22:36.097258Z",
     "shell.execute_reply.started": "2021-12-04T03:56:50.627482Z"
    },
    "papermill": {
     "duration": 801.601561,
     "end_time": "2021-12-05T20:22:36.098352",
     "exception": false,
     "start_time": "2021-12-05T20:09:14.496791",
     "status": "completed"
    },
    "tags": []
   },
   "outputs": [
    {
     "data": {
      "text/html": [
       "== Status ==<br>Memory usage on this node: 3.5/17.6 GiB<br>Using FIFO scheduling algorithm.<br>Resources requested: 0/4 CPUs, 0/0 GPUs, 0.0/8.39 GiB heap, 0.0/4.19 GiB objects<br>Current best trial: 398c4_00001 with average_test_score=0.7209162920053644 and parameters={'early_stopping': False, 'early_stop_type': <EarlyStopping.NO_EARLY_STOP: 7>, 'X_id': ObjectRef(ffffffffffffffffffffffffffffffffffffffff0100000004000000), 'y_id': ObjectRef(ffffffffffffffffffffffffffffffffffffffff0100000005000000), 'groups': None, 'cv': StratifiedKFold(n_splits=5, random_state=None, shuffle=False), 'fit_params': {}, 'scoring': {'score': make_scorer(f1_score, pos_label=None, average=macro)}, 'max_iters': 1, 'return_train_score': False, 'n_jobs': 1, 'metric_name': 'average_test_score', 'mlp__activation': 'logistic', 'mlp__solver': 'lbfgs', 'mlp__learning_rate': 'constant', 'estimator_ids': [ObjectRef(ffffffffffffffffffffffffffffffffffffffff0100000006000000)]}<br>Result logdir: /root/ray_results/_Trainable_2021-12-05_20-09-17<br>Number of trials: 2/2 (2 TERMINATED)<br><br>"
      ],
      "text/plain": [
       "<IPython.core.display.HTML object>"
      ]
     },
     "metadata": {},
     "output_type": "display_data"
    },
    {
     "name": "stderr",
     "output_type": "stream",
     "text": [
      "/opt/conda/lib/python3.7/site-packages/sklearn/neural_network/_multilayer_perceptron.py:549: ConvergenceWarning: lbfgs failed to converge (status=1):\n",
      "STOP: TOTAL NO. of ITERATIONS REACHED LIMIT.\n",
      "\n",
      "Increase the number of iterations (max_iter) or scale the data as shown in:\n",
      "    https://scikit-learn.org/stable/modules/preprocessing.html\n",
      "  self.n_iter_ = _check_optimize_result(\"lbfgs\", opt_res, self.max_iter)\n"
     ]
    },
    {
     "name": "stdout",
     "output_type": "stream",
     "text": [
      "Best parameters with Ray {'mlp__activation': 'logistic', 'mlp__solver': 'lbfgs', 'mlp__learning_rate': 'constant'}\n"
     ]
    }
   ],
   "source": [
    "pipe = Pipeline(steps=[('mlp', mlp)])\n",
    "ray_mlp_estimator = TuneGridSearchCV(pipe, dict(mlp__activation=mlp_activation,\n",
    "                                            mlp__solver=mlp_solver,\n",
    "                                            mlp__learning_rate=mlp_learning_rate), cv=5, scoring='f1_macro', n_jobs=-1,\n",
    "                                                                                                   verbose=1)\n",
    "ray_mlp_estimator.fit(X_train, y_train)\n",
    "preds = ray_mlp_estimator.predict(X_test)\n",
    "print(\"Best parameters with Ray\",ray_mlp_estimator.best_params_)"
   ]
  },
  {
   "cell_type": "markdown",
   "id": "12332ea7",
   "metadata": {
    "papermill": {
     "duration": 0.071089,
     "end_time": "2021-12-05T20:22:36.296068",
     "exception": false,
     "start_time": "2021-12-05T20:22:36.224979",
     "status": "completed"
    },
    "tags": []
   },
   "source": [
    "Train:"
   ]
  },
  {
   "cell_type": "code",
   "execution_count": 37,
   "id": "0b8598d1",
   "metadata": {
    "execution": {
     "iopub.execute_input": "2021-12-05T20:22:36.882472Z",
     "iopub.status.busy": "2021-12-05T20:22:36.881811Z",
     "iopub.status.idle": "2021-12-05T20:24:37.937997Z",
     "shell.execute_reply": "2021-12-05T20:24:37.938477Z",
     "shell.execute_reply.started": "2021-12-04T03:56:50.644499Z"
    },
    "papermill": {
     "duration": 121.571403,
     "end_time": "2021-12-05T20:24:37.938678",
     "exception": false,
     "start_time": "2021-12-05T20:22:36.367275",
     "status": "completed"
    },
    "tags": []
   },
   "outputs": [
    {
     "name": "stderr",
     "output_type": "stream",
     "text": [
      "/opt/conda/lib/python3.7/site-packages/sklearn/neural_network/_multilayer_perceptron.py:549: ConvergenceWarning: lbfgs failed to converge (status=1):\n",
      "STOP: TOTAL NO. of ITERATIONS REACHED LIMIT.\n",
      "\n",
      "Increase the number of iterations (max_iter) or scale the data as shown in:\n",
      "    https://scikit-learn.org/stable/modules/preprocessing.html\n",
      "  self.n_iter_ = _check_optimize_result(\"lbfgs\", opt_res, self.max_iter)\n"
     ]
    },
    {
     "name": "stdout",
     "output_type": "stream",
     "text": [
      "Confusion Matrices of the MLP Classifier:\n",
      " [[9235 2710]\n",
      " [3206 9331]]\n",
      "\n",
      "Accuracy of the MLP Classifier:\n",
      "0.7583530757291072\n",
      "\n",
      "Classification Report of MLP:\n",
      "               precision    recall  f1-score   support\n",
      "\n",
      "          CT       0.74      0.77      0.76     11945\n",
      "           T       0.77      0.74      0.76     12537\n",
      "\n",
      "    accuracy                           0.76     24482\n",
      "   macro avg       0.76      0.76      0.76     24482\n",
      "weighted avg       0.76      0.76      0.76     24482\n",
      "\n"
     ]
    }
   ],
   "source": [
    "X_train_copy = scaler.fit_transform(X_train)\n",
    "X_test_copy = scaler.fit_transform(X_test)\n",
    "\n",
    "mlp = neural_network.MLPClassifier(solver=ray_mlp_estimator.best_params_['mlp__solver'],\n",
    "                    random_state=1,\n",
    "                    activation=ray_mlp_estimator.best_params_['mlp__activation'],\n",
    "                    learning_rate=ray_mlp_estimator.best_params_['mlp__learning_rate']) \n",
    "\n",
    "mlp.fit(X_train_copy,y_train_copy)\n",
    "new_predictions['mlp'] = mlp.predict(X_test_copy)\n",
    "new_accuracies['mlp'] = mlp.score(X_test_copy,y_test)\n",
    "\n",
    "\n",
    "print(f'Confusion Matrices of the MLP Classifier:\\n {confusion_matrix(y_test, new_predictions[\"mlp\"])}')\n",
    "\n",
    "print(\"\\nAccuracy of the MLP Classifier:\")\n",
    "print(f'{new_accuracies[\"mlp\"]}')\n",
    "\n",
    "print(\"\\nClassification Report of MLP:\\n\", classification_report(y_test,new_predictions['mlp']))"
   ]
  },
  {
   "cell_type": "markdown",
   "id": "87cd2030",
   "metadata": {
    "papermill": {
     "duration": 0.074389,
     "end_time": "2021-12-05T20:24:38.088573",
     "exception": false,
     "start_time": "2021-12-05T20:24:38.014184",
     "status": "completed"
    },
    "tags": []
   },
   "source": [
    "### **SVC**"
   ]
  },
  {
   "cell_type": "code",
   "execution_count": 38,
   "id": "7ce85b1f",
   "metadata": {
    "execution": {
     "iopub.execute_input": "2021-12-05T20:24:38.241530Z",
     "iopub.status.busy": "2021-12-05T20:24:38.240840Z",
     "iopub.status.idle": "2021-12-05T20:24:38.243016Z",
     "shell.execute_reply": "2021-12-05T20:24:38.243674Z",
     "shell.execute_reply.started": "2021-12-04T03:56:50.662886Z"
    },
    "papermill": {
     "duration": 0.081912,
     "end_time": "2021-12-05T20:24:38.243848",
     "exception": false,
     "start_time": "2021-12-05T20:24:38.161936",
     "status": "completed"
    },
    "tags": []
   },
   "outputs": [],
   "source": [
    "svm_kernel = ['linear', 'rbf', 'sigmoid']\n",
    "svm_C = [1, 10, 100]\n",
    "svm_tol = [1e-5, 1e-4, 1e-3]"
   ]
  },
  {
   "cell_type": "code",
   "execution_count": 39,
   "id": "d896f28e",
   "metadata": {
    "execution": {
     "iopub.execute_input": "2021-12-05T20:24:38.395621Z",
     "iopub.status.busy": "2021-12-05T20:24:38.394720Z",
     "iopub.status.idle": "2021-12-05T20:28:21.649070Z",
     "shell.execute_reply": "2021-12-05T20:28:21.648583Z",
     "shell.execute_reply.started": "2021-12-04T03:56:50.67592Z"
    },
    "papermill": {
     "duration": 223.332522,
     "end_time": "2021-12-05T20:28:21.649235",
     "exception": false,
     "start_time": "2021-12-05T20:24:38.316713",
     "status": "completed"
    },
    "tags": []
   },
   "outputs": [
    {
     "data": {
      "text/html": [
       "== Status ==<br>Memory usage on this node: 3.5/17.6 GiB<br>Using FIFO scheduling algorithm.<br>Resources requested: 0/4 CPUs, 0/0 GPUs, 0.0/8.34 GiB heap, 0.0/4.17 GiB objects<br>Current best trial: 6027a_00002 with average_test_score=0.7378472909635228 and parameters={'early_stopping': False, 'early_stop_type': <EarlyStopping.NO_EARLY_STOP: 7>, 'X_id': ObjectRef(ffffffffffffffffffffffffffffffffffffffff0100000007000000), 'y_id': ObjectRef(ffffffffffffffffffffffffffffffffffffffff0100000008000000), 'groups': None, 'cv': StratifiedKFold(n_splits=5, random_state=None, shuffle=False), 'fit_params': {}, 'scoring': {'score': make_scorer(f1_score, pos_label=None, average=macro)}, 'max_iters': 1, 'return_train_score': False, 'n_jobs': 1, 'metric_name': 'average_test_score', 'svm__kernel': 'linear', 'svm__C': 100, 'svm__tol': 1e-05, 'estimator_ids': [ObjectRef(ffffffffffffffffffffffffffffffffffffffff0100000009000000)]}<br>Result logdir: /root/ray_results/_Trainable_2021-12-05_20-24-40<br>Number of trials: 27/27 (27 TERMINATED)<br><br>"
      ],
      "text/plain": [
       "<IPython.core.display.HTML object>"
      ]
     },
     "metadata": {},
     "output_type": "display_data"
    },
    {
     "name": "stderr",
     "output_type": "stream",
     "text": [
      "/opt/conda/lib/python3.7/site-packages/sklearn/base.py:439: UserWarning: X has feature names, but RobustScaler was fitted without feature names\n",
      "  f\"X has feature names, but {self.__class__.__name__} was fitted without\"\n"
     ]
    },
    {
     "name": "stdout",
     "output_type": "stream",
     "text": [
      "Best parameters with Ray {'svm__kernel': 'linear', 'svm__C': 100, 'svm__tol': 1e-05}\n"
     ]
    }
   ],
   "source": [
    "pipe = Pipeline(steps=[('scaler', scaler), ('svm', svm)])\n",
    "svm_estimator = TuneGridSearchCV(pipe, dict(\n",
    "                                            svm__kernel=svm_kernel,\n",
    "                                            svm__C=svm_C,\n",
    "                                            svm__tol=svm_tol), cv=5, scoring='f1_macro', n_jobs=-1,\n",
    "                                                                                                   verbose=1)\n",
    "svm_estimator.fit(X_train_sample, y_train_sample)\n",
    "preds = svm_estimator.predict(X_test)\n",
    "print(\"Best parameters with Ray\",svm_estimator.best_params_)"
   ]
  },
  {
   "cell_type": "markdown",
   "id": "e30c1523",
   "metadata": {
    "papermill": {
     "duration": 0.073172,
     "end_time": "2021-12-05T20:28:21.794709",
     "exception": false,
     "start_time": "2021-12-05T20:28:21.721537",
     "status": "completed"
    },
    "tags": []
   },
   "source": [
    "Same methodology on the whole set. The running time is huge, therefore we commented out the code. "
   ]
  },
  {
   "cell_type": "code",
   "execution_count": 40,
   "id": "42969b6c",
   "metadata": {
    "execution": {
     "iopub.execute_input": "2021-12-05T20:28:21.945685Z",
     "iopub.status.busy": "2021-12-05T20:28:21.943723Z",
     "iopub.status.idle": "2021-12-05T20:28:21.948787Z",
     "shell.execute_reply": "2021-12-05T20:28:21.948287Z",
     "shell.execute_reply.started": "2021-12-04T04:14:28.74601Z"
    },
    "papermill": {
     "duration": 0.081376,
     "end_time": "2021-12-05T20:28:21.948921",
     "exception": false,
     "start_time": "2021-12-05T20:28:21.867545",
     "status": "completed"
    },
    "tags": []
   },
   "outputs": [],
   "source": [
    "svm_kernel = ['linear', 'rbf']\n",
    "svm_C = [100]\n",
    "svm_tol = [1e-5]"
   ]
  },
  {
   "cell_type": "code",
   "execution_count": 41,
   "id": "356d1aa5",
   "metadata": {
    "execution": {
     "iopub.execute_input": "2021-12-05T20:28:22.099103Z",
     "iopub.status.busy": "2021-12-05T20:28:22.098478Z",
     "iopub.status.idle": "2021-12-05T20:28:22.101430Z",
     "shell.execute_reply": "2021-12-05T20:28:22.100937Z",
     "shell.execute_reply.started": "2021-12-04T04:14:39.21911Z"
    },
    "papermill": {
     "duration": 0.079978,
     "end_time": "2021-12-05T20:28:22.101572",
     "exception": false,
     "start_time": "2021-12-05T20:28:22.021594",
     "status": "completed"
    },
    "tags": []
   },
   "outputs": [],
   "source": [
    "#########################################\n",
    "\n",
    "# DISABLING THIS CODE BLOCK DUE TO LONG RUNNING TIME\n",
    "\n",
    "######################################\n",
    "\n",
    "# pipe = Pipeline(steps=[('scaler', scaler), ('svm', svm)])\n",
    "# ray_svm_estimator = TuneGridSearchCV(pipe, dict(svm__kernel=svm_kernel,\n",
    "#                                             svm__C=svm_C,\n",
    "#                                             svm__tol=svm_tol), cv=5, scoring='f1_macro', n_jobs=-1,\n",
    "#                                                                                                    verbose=1)\n",
    "# ray_svm_estimator.fit(X_train,y_train)\n",
    "# preds = ray_svm_estimator.predict(X_test)\n",
    "# print(\"Best parameters with Ray\",ray_svm_estimator.best_params_)"
   ]
  },
  {
   "cell_type": "markdown",
   "id": "bf774780",
   "metadata": {
    "papermill": {
     "duration": 0.072723,
     "end_time": "2021-12-05T20:28:22.247521",
     "exception": false,
     "start_time": "2021-12-05T20:28:22.174798",
     "status": "completed"
    },
    "tags": []
   },
   "source": [
    "We stopped the cell because the SVC is insanely slow at large datasets. We will not train that classifier."
   ]
  },
  {
   "cell_type": "markdown",
   "id": "642393b7",
   "metadata": {
    "papermill": {
     "duration": 0.07463,
     "end_time": "2021-12-05T20:28:22.394673",
     "exception": false,
     "start_time": "2021-12-05T20:28:22.320043",
     "status": "completed"
    },
    "tags": []
   },
   "source": [
    "### **SGD**"
   ]
  },
  {
   "cell_type": "code",
   "execution_count": 42,
   "id": "16519599",
   "metadata": {
    "execution": {
     "iopub.execute_input": "2021-12-05T20:28:22.544834Z",
     "iopub.status.busy": "2021-12-05T20:28:22.543856Z",
     "iopub.status.idle": "2021-12-05T20:28:22.547973Z",
     "shell.execute_reply": "2021-12-05T20:28:22.548541Z",
     "shell.execute_reply.started": "2021-12-04T03:56:50.729219Z"
    },
    "papermill": {
     "duration": 0.081221,
     "end_time": "2021-12-05T20:28:22.548705",
     "exception": false,
     "start_time": "2021-12-05T20:28:22.467484",
     "status": "completed"
    },
    "tags": []
   },
   "outputs": [],
   "source": [
    "sgd_loss = ['hinge', 'log', 'modified_huber', 'squared_hinge', 'perceptron']\n",
    "sgd_alpha = [1e-5,1e-4, 1e-3]\n",
    "sgd_tol = [1e-5,1e-4, 1e-3]"
   ]
  },
  {
   "cell_type": "code",
   "execution_count": 43,
   "id": "b7468110",
   "metadata": {
    "execution": {
     "iopub.execute_input": "2021-12-05T20:28:22.698727Z",
     "iopub.status.busy": "2021-12-05T20:28:22.697764Z",
     "iopub.status.idle": "2021-12-05T20:28:42.495890Z",
     "shell.execute_reply": "2021-12-05T20:28:42.497125Z",
     "shell.execute_reply.started": "2021-12-04T03:56:50.745237Z"
    },
    "papermill": {
     "duration": 19.875778,
     "end_time": "2021-12-05T20:28:42.497424",
     "exception": false,
     "start_time": "2021-12-05T20:28:22.621646",
     "status": "completed"
    },
    "tags": []
   },
   "outputs": [
    {
     "data": {
      "text/html": [
       "== Status ==<br>Memory usage on this node: 4.1/17.6 GiB<br>Using FIFO scheduling algorithm.<br>Resources requested: 0/4 CPUs, 0/0 GPUs, 0.0/8.33 GiB heap, 0.0/4.17 GiB objects<br>Current best trial: e5e02_00005 with average_test_score=0.7437665913792018 and parameters={'sgd__loss': 'log', 'sgd__alpha': 0.001, 'sgd__tol': 1e-05}<br>Result logdir: /root/ray_results/_Trainable_2021-12-05_20-28-25<br>Number of trials: 45/45 (45 TERMINATED)<br><br>"
      ],
      "text/plain": [
       "<IPython.core.display.HTML object>"
      ]
     },
     "metadata": {},
     "output_type": "display_data"
    },
    {
     "name": "stderr",
     "output_type": "stream",
     "text": [
      "/opt/conda/lib/python3.7/site-packages/sklearn/base.py:439: UserWarning: X has feature names, but RobustScaler was fitted without feature names\n",
      "  f\"X has feature names, but {self.__class__.__name__} was fitted without\"\n"
     ]
    },
    {
     "name": "stdout",
     "output_type": "stream",
     "text": [
      "Best parameters with Ray {'sgd__loss': 'log', 'sgd__alpha': 0.001, 'sgd__tol': 1e-05}\n"
     ]
    }
   ],
   "source": [
    "pipe = Pipeline(steps=[('scaler', scaler), ('sgd', sgd)])\n",
    "sgd_estimator = TuneGridSearchCV(pipe, dict(\n",
    "                                            sgd__loss=sgd_loss,\n",
    "                                            sgd__alpha=sgd_alpha,\n",
    "                                            sgd__tol=sgd_tol), cv=5, scoring='f1_macro', n_jobs=-1,\n",
    "                                                                                                   verbose=1)\n",
    "sgd_estimator.fit(X_train_sample, y_train_sample)\n",
    "preds = sgd_estimator.predict(X_test)\n",
    "print(\"Best parameters with Ray\",sgd_estimator.best_params_)"
   ]
  },
  {
   "cell_type": "code",
   "execution_count": 44,
   "id": "a825395b",
   "metadata": {
    "execution": {
     "iopub.execute_input": "2021-12-05T20:28:42.704387Z",
     "iopub.status.busy": "2021-12-05T20:28:42.703772Z",
     "iopub.status.idle": "2021-12-05T20:28:42.706467Z",
     "shell.execute_reply": "2021-12-05T20:28:42.705964Z",
     "shell.execute_reply.started": "2021-12-04T03:59:23.527708Z"
    },
    "papermill": {
     "duration": 0.080413,
     "end_time": "2021-12-05T20:28:42.706609",
     "exception": false,
     "start_time": "2021-12-05T20:28:42.626196",
     "status": "completed"
    },
    "tags": []
   },
   "outputs": [],
   "source": [
    "sgd_loss = ['hinge', 'log']\n",
    "sgd_alpha = [1e-4, 1e-3]\n",
    "sgd_tol = [1e-5]"
   ]
  },
  {
   "cell_type": "code",
   "execution_count": 45,
   "id": "0cc72f8a",
   "metadata": {
    "execution": {
     "iopub.execute_input": "2021-12-05T20:28:42.860584Z",
     "iopub.status.busy": "2021-12-05T20:28:42.859968Z",
     "iopub.status.idle": "2021-12-05T20:29:39.080293Z",
     "shell.execute_reply": "2021-12-05T20:29:39.081131Z",
     "shell.execute_reply.started": "2021-12-04T03:59:49.91188Z"
    },
    "papermill": {
     "duration": 56.30053,
     "end_time": "2021-12-05T20:29:39.081420",
     "exception": false,
     "start_time": "2021-12-05T20:28:42.780890",
     "status": "completed"
    },
    "tags": []
   },
   "outputs": [
    {
     "data": {
      "text/html": [
       "== Status ==<br>Memory usage on this node: 3.4/17.6 GiB<br>Using FIFO scheduling algorithm.<br>Resources requested: 0/4 CPUs, 0/0 GPUs, 0.0/8.33 GiB heap, 0.0/4.17 GiB objects<br>Current best trial: f1f1f_00001 with average_test_score=0.7506960936057779 and parameters={'early_stopping': False, 'early_stop_type': <EarlyStopping.NO_EARLY_STOP: 7>, 'X_id': ObjectRef(ffffffffffffffffffffffffffffffffffffffff010000000d000000), 'y_id': ObjectRef(ffffffffffffffffffffffffffffffffffffffff010000000e000000), 'groups': None, 'cv': StratifiedKFold(n_splits=5, random_state=None, shuffle=False), 'fit_params': {}, 'scoring': {'score': make_scorer(f1_score, pos_label=None, average=macro)}, 'max_iters': 1, 'return_train_score': False, 'n_jobs': 1, 'metric_name': 'average_test_score', 'sgd__loss': 'hinge', 'sgd__alpha': 0.001, 'sgd__tol': 1e-05, 'estimator_ids': [ObjectRef(ffffffffffffffffffffffffffffffffffffffff010000000f000000)]}<br>Result logdir: /root/ray_results/_Trainable_2021-12-05_20-28-45<br>Number of trials: 4/4 (4 TERMINATED)<br><br>"
      ],
      "text/plain": [
       "<IPython.core.display.HTML object>"
      ]
     },
     "metadata": {},
     "output_type": "display_data"
    },
    {
     "name": "stdout",
     "output_type": "stream",
     "text": [
      "Best parameters with Ray {'sgd__loss': 'hinge', 'sgd__alpha': 0.001, 'sgd__tol': 1e-05}\n"
     ]
    }
   ],
   "source": [
    "pipe = Pipeline(steps=[('scaler', scaler), ('sgd', sgd)])\n",
    "sgd_estimator = TuneGridSearchCV(pipe, dict(\n",
    "                                            sgd__loss=sgd_loss,\n",
    "                                            sgd__alpha=sgd_alpha,\n",
    "                                            sgd__tol=sgd_tol), cv=5, scoring='f1_macro', n_jobs=-1,\n",
    "                                                                                                   verbose=1)\n",
    "sgd_estimator.fit(X_train, y_train)\n",
    "preds = sgd_estimator.predict(X_test)\n",
    "print(\"Best parameters with Ray\",sgd_estimator.best_params_)"
   ]
  },
  {
   "cell_type": "code",
   "execution_count": 46,
   "id": "03fab2af",
   "metadata": {
    "execution": {
     "iopub.execute_input": "2021-12-05T20:29:39.295752Z",
     "iopub.status.busy": "2021-12-05T20:29:39.295038Z",
     "iopub.status.idle": "2021-12-05T20:29:45.323717Z",
     "shell.execute_reply": "2021-12-05T20:29:45.323095Z",
     "shell.execute_reply.started": "2021-12-04T04:11:17.579054Z"
    },
    "papermill": {
     "duration": 6.111379,
     "end_time": "2021-12-05T20:29:45.323856",
     "exception": false,
     "start_time": "2021-12-05T20:29:39.212477",
     "status": "completed"
    },
    "tags": []
   },
   "outputs": [
    {
     "name": "stdout",
     "output_type": "stream",
     "text": [
      "Confusion Matrices of the SGD Classifier:\n",
      " [[9624 2321]\n",
      " [3749 8788]]\n",
      "\n",
      "Accuracy of the SGD Classifier:\n",
      "0.7520627399722245\n",
      "\n",
      "Classification Report of SGD:\n",
      "               precision    recall  f1-score   support\n",
      "\n",
      "          CT       0.72      0.81      0.76     11945\n",
      "           T       0.79      0.70      0.74     12537\n",
      "\n",
      "    accuracy                           0.75     24482\n",
      "   macro avg       0.76      0.75      0.75     24482\n",
      "weighted avg       0.76      0.75      0.75     24482\n",
      "\n"
     ]
    }
   ],
   "source": [
    "X_train_copy = scaler.fit_transform(X_train)\n",
    "X_test_copy = scaler.fit_transform(X_test)\n",
    "\n",
    "sgd = SGDClassifier(loss=sgd_estimator.best_params_['sgd__loss'],\n",
    "                    alpha=sgd_estimator.best_params_['sgd__alpha'],\n",
    "                    tol=sgd_estimator.best_params_['sgd__tol'],\n",
    "                    random_state=1) \n",
    "\n",
    "sgd.fit(X_train_copy,y_train_copy)\n",
    "new_predictions['sgd'] = sgd.predict(X_test_copy)\n",
    "new_accuracies['sgd'] = sgd.score(X_test_copy,y_test)\n",
    "\n",
    "\n",
    "print(f'Confusion Matrices of the SGD Classifier:\\n {confusion_matrix(y_test, new_predictions[\"sgd\"])}')\n",
    "\n",
    "print(\"\\nAccuracy of the SGD Classifier:\")\n",
    "print(f'{new_accuracies[\"sgd\"]}')\n",
    "\n",
    "print(\"\\nClassification Report of SGD:\\n\", classification_report(y_test,new_predictions['sgd']))"
   ]
  },
  {
   "cell_type": "markdown",
   "id": "22bd2038",
   "metadata": {
    "papermill": {
     "duration": 0.075375,
     "end_time": "2021-12-05T20:29:45.473877",
     "exception": false,
     "start_time": "2021-12-05T20:29:45.398502",
     "status": "completed"
    },
    "tags": []
   },
   "source": [
    "### Results"
   ]
  },
  {
   "cell_type": "markdown",
   "id": "1ebccc2f",
   "metadata": {
    "papermill": {
     "duration": 0.074807,
     "end_time": "2021-12-05T20:29:45.624323",
     "exception": false,
     "start_time": "2021-12-05T20:29:45.549516",
     "status": "completed"
    },
    "tags": []
   },
   "source": [
    "#### Markdown Table"
   ]
  },
  {
   "cell_type": "markdown",
   "id": "722ce3d0",
   "metadata": {
    "papermill": {
     "duration": 0.074411,
     "end_time": "2021-12-05T20:29:45.773529",
     "exception": false,
     "start_time": "2021-12-05T20:29:45.699118",
     "status": "completed"
    },
    "tags": []
   },
   "source": [
    "| Classifier | F1 Score (Micro) | F1 Score (Macro) | Accuracy|\n",
    "|:----:|:------:|:-------:|:--------:|\n",
    "| **dc_uniform**       |         0.4982 |     0.4982     |0.5|\n",
    "| **dc_const_CT**     |      0.4879 |    0.3279    |0.4879|\n",
    "| **dc_const_T**       |        0.5121 |     0.3387     |0.5121|\n",
    "| **dc_stratified**         |          0.4955 |      0.4954      | 0.4960|\n",
    "| **dc_frequent**       |       0.5121 |    0.3387   |0.5121|\n",
    "| **mlp**    |     0.7237 |    0.7129   |0.7238|\n",
    "| **svc**    |     0.7798 |    0.7625   |0.7798|\n",
    "| **sgd**    |     0.74 |    0.76   |0.75|"
   ]
  },
  {
   "cell_type": "markdown",
   "id": "993a0195",
   "metadata": {
    "papermill": {
     "duration": 0.074715,
     "end_time": "2021-12-05T20:29:45.923241",
     "exception": false,
     "start_time": "2021-12-05T20:29:45.848526",
     "status": "completed"
    },
    "tags": []
   },
   "source": [
    "#### Bar Plots"
   ]
  },
  {
   "cell_type": "code",
   "execution_count": 47,
   "id": "06a76309",
   "metadata": {
    "execution": {
     "iopub.execute_input": "2021-12-05T20:29:46.104993Z",
     "iopub.status.busy": "2021-12-05T20:29:46.104343Z",
     "iopub.status.idle": "2021-12-05T20:29:49.157754Z",
     "shell.execute_reply": "2021-12-05T20:29:49.156847Z",
     "shell.execute_reply.started": "2021-12-04T03:57:15.382704Z"
    },
    "papermill": {
     "duration": 3.159678,
     "end_time": "2021-12-05T20:29:49.157919",
     "exception": false,
     "start_time": "2021-12-05T20:29:45.998241",
     "status": "completed"
    },
    "tags": []
   },
   "outputs": [
    {
     "data": {
      "image/png": "[encoded data removed]",
      "text/plain": [
       "<Figure size 1332x756 with 1 Axes>"
      ]
     },
     "metadata": {
      "needs_background": "light"
     },
     "output_type": "display_data"
    }
   ],
   "source": [
    "new_f1_macros, new_f1_micros, new_labels = [],[],[]\n",
    "for clf in new_predictions:  \n",
    "    new_f1_micros.append(f1_score(y_test,new_predictions[clf],average='micro'))\n",
    "    new_f1_macros.append(f1_score(y_test,new_predictions[clf],average='macro'))\n",
    "    new_labels.append(clf)\n",
    "\n",
    "x = np.arange(len(new_labels))\n",
    "width = 0.25\n",
    "\n",
    "fig, ax = plt.subplots()\n",
    "rects1 = ax.bar(x - width/2, new_f1_micros, width, label='f1_micros')\n",
    "rects2 = ax.bar(x + width/2, new_f1_macros, width, label='f1_macros')\n",
    "\n",
    "fig.set_size_inches(18.5, 10.5)\n",
    "ax.set_ylabel('Scores')\n",
    "ax.set_title('Performance Comparison on F1-Score')\n",
    "ax.set_xticks(x)\n",
    "ax.set_xticklabels(new_labels)\n",
    "ax.legend()\n",
    "\n",
    "plt.show()"
   ]
  },
  {
   "cell_type": "code",
   "execution_count": 48,
   "id": "c61a1603",
   "metadata": {
    "execution": {
     "iopub.execute_input": "2021-12-05T20:29:49.322134Z",
     "iopub.status.busy": "2021-12-05T20:29:49.318438Z",
     "iopub.status.idle": "2021-12-05T20:29:49.568804Z",
     "shell.execute_reply": "2021-12-05T20:29:49.568237Z",
     "shell.execute_reply.started": "2021-12-04T03:57:15.393075Z"
    },
    "papermill": {
     "duration": 0.332811,
     "end_time": "2021-12-05T20:29:49.568946",
     "exception": false,
     "start_time": "2021-12-05T20:29:49.236135",
     "status": "completed"
    },
    "tags": []
   },
   "outputs": [
    {
     "data": {
      "image/png": "[encoded data removed]",
      "text/plain": [
       "<Figure size 1332x756 with 1 Axes>"
      ]
     },
     "metadata": {
      "needs_background": "light"
     },
     "output_type": "display_data"
    }
   ],
   "source": [
    "new_scores, new_acc_labels = [],[]\n",
    "for clf in new_accuracies:  \n",
    "    new_scores.append(new_accuracies[clf])\n",
    "    new_acc_labels.append(clf)\n",
    "\n",
    "x = np.arange(len(acc_labels))\n",
    "width = 0.25\n",
    "\n",
    "fig, ax = plt.subplots()\n",
    "rects1 = ax.bar(x - width/2, new_scores, width, label='accuracy')\n",
    "\n",
    "fig.set_size_inches(18.5, 10.5)\n",
    "ax.set_ylabel('Scores')\n",
    "ax.set_title('Performance Comparison on Accuracy')\n",
    "ax.set_xticks(x)\n",
    "ax.set_xticklabels(new_acc_labels)\n",
    "ax.legend()\n",
    "\n",
    "plt.show()"
   ]
  },
  {
   "cell_type": "markdown",
   "id": "84f0d4dd",
   "metadata": {
    "papermill": {
     "duration": 0.076193,
     "end_time": "2021-12-05T20:29:49.721570",
     "exception": false,
     "start_time": "2021-12-05T20:29:49.645377",
     "status": "completed"
    },
    "tags": []
   },
   "source": [
    "We chose F1 score and accuracy, while also checking using 10-fold cross validation, because these are the best metrics for evaluating any dataset.\n",
    "Having split the data into 80% train and 20% test set, we initially defined the classifiers in their raw form. This way, calling the .fit and .predict functions, we got their out-of-the-box scores and confusion matrices. We then defined a pipeline for each classifier, shuffled and got a slice of the training data and called GridSearchCV to get the hyperparameters on the sampled set. The problem that of course arose, is that the dataset is huge, therefore GridSearchCV takes a lot of hours to run. To counter this obstacle we used the Ray Library to optimize GridSearchCV using TuneGridSearchCV, which, down to its core, acts like a distributed GridSearchCV. After all that, we re-ran TuneGridSearchCV for each classifier, but this time on the training set; thus, we got the best hyperparameters, with which we trained our model and got its accuracy.\n",
    "The best classifier is the MLP, followed by the SGD. The hyperparameters somewhat helped in the accuracy enhancement of each classifier. "
   ]
  },
  {
   "cell_type": "code",
   "execution_count": null,
   "id": "57aaae76",
   "metadata": {
    "papermill": {
     "duration": 0.075706,
     "end_time": "2021-12-05T20:29:49.873376",
     "exception": false,
     "start_time": "2021-12-05T20:29:49.797670",
     "status": "completed"
    },
    "tags": []
   },
   "outputs": [],
   "source": []
  }
 ],
 "metadata": {
  "kernelspec": {
   "display_name": "Python 3",
   "language": "python",
   "name": "python3"
  },
  "language_info": {
   "codemirror_mode": {
    "name": "ipython",
    "version": 3
   },
   "file_extension": ".py",
   "mimetype": "text/x-python",
   "name": "python",
   "nbconvert_exporter": "python",
   "pygments_lexer": "ipython3",
   "version": "3.7.10"
  },
  "papermill": {
   "default_parameters": {},
   "duration": 25480.482926,
   "end_time": "2021-12-05T20:29:52.642050",
   "environment_variables": {},
   "exception": null,
   "input_path": "__notebook__.ipynb",
   "output_path": "__notebook__.ipynb",
   "parameters": {},
   "start_time": "2021-12-05T13:25:12.159124",
   "version": "2.3.3"
  }
 },
 "nbformat": 4,
 "nbformat_minor": 5
}
