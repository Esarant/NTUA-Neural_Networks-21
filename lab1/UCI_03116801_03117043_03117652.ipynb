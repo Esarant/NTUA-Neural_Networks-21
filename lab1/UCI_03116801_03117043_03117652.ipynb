{
  "nbformat": 4,
  "nbformat_minor": 0,
  "metadata": {
    "colab": {
      "name": "Lab1_03116801_03117043_03117652.ipynb",
      "provenance": [],
      "collapsed_sections": []
    },
    "kernelspec": {
      "name": "python3",
      "display_name": "Python 3"
    },
    "language_info": {
      "name": "python"
    }
  },
  "cells": [
    {
      "cell_type": "markdown",
      "metadata": {
        "id": "pGkgvwzfGNT3"
      },
      "source": [
        "# Νευρωνικά Δίκτυα 2021-2022\n",
        "## 1η Εργαστηριακή Άσκηση\n",
        "## Στοιχεία Ομάδας:\n",
        "\n",
        "\n",
        "*   Αριθμός 90\n",
        "*   Σαραντινόπουλος Ευστάθιος Αλέξανδρος -- 031 16801\n",
        "*   Κωστόπουλος Κωνσταντίνος -- 031 17043\n",
        "*   Τσαούσης Κωνσταντίνος -- 031 17652\n",
        "\n",
        "## Στοιχεία dataset: \n",
        "\n",
        "* ### Dataset link: http://archive.ics.uci.edu/ml/datasets/MAGIC+Gamma+Telescope\n",
        "* ### Περιγραφή dataset: \n",
        "  To dataset έχει γίνει generated από ενα Monte Carlo Program, το Corsica λεπτομέρειες για το οποίο μπορούμε να βρούμε παρακάτω.\n",
        "  <details>described in: D. Heck et al., CORSIKA, A Monte Carlo code to simulate extensive air showers, Forschungszentrum Karlsruhe FZKA 6019 (1998)</details>\n",
        "  Πρόκειται για ενα simulation αποτύπωσης σωματιδιων γάμμα υψηλής ενέργειας από ένα επίγειο τηλεσκόπιο Chernikov gamma. Το τηλεσκόπιο αποτυπώνει σωματίδια και τα χαρακτηριστικά τους και τα κατηγοριοποιεί σε δυο κλάσεις τις gamma και hadron.\n",
        "* ### Original description: \n",
        "  \n",
        "    <details>\n",
        "      The data are MC generated (see below) to simulate registration of high energy gamma particles in a ground-based atmospheric Cherenkov gamma telescope using the imaging technique. Cherenkov gamma telescope observes high energy gamma rays, taking advantage of the radiation emitted by charged particles produced inside the electromagnetic showers initiated by the gammas, and developing in the atmosphere. This Cherenkov radiation (of visible to UV wavelengths) leaks through the atmosphere and gets recorded in the detector, allowing reconstruction of the shower parameters. The available information consists of pulses left by the incoming Cherenkov photons on the photomultiplier tubes, arranged in a plane, the camera. Depending on the energy of the primary gamma, a total of few hundreds to some 10000 Cherenkov photons get collected, in patterns (called the shower image), allowing to discriminate statistically those caused by primary gammas (signal) from the images of hadronic showers initiated by cosmic rays in the upper atmosphere (background).\n",
        "\n",
        "  Typically, the image of a shower after some pre-processing is an elongated cluster. Its long axis is oriented towards the camera center if the shower axis is parallel to the telescope's optical axis, i.e. if the telescope axis is directed towards a point source. A principal component analysis is performed in the camera plane, which results in a correlation axis and defines an ellipse. If the depositions were distributed as a bivariate Gaussian, this would be an equidensity ellipse. The characteristic parameters of this ellipse (often called Hillas parameters) are among the image parameters that can be used for discrimination. The energy depositions are typically asymmetric along the major axis, and this asymmetry can also be used in discrimination. There are, in addition, further discriminating characteristics, like the extent of the cluster in the image plane, or the total sum of depositions. \n",
        "  </details>\n",
        "\n",
        "\n",
        "\n"
      ]
    },
    {
      "cell_type": "markdown",
      "metadata": {
        "id": "zIBpvr9EpJde"
      },
      "source": [
        "## A) Εισαγωγή"
      ]
    },
    {
      "cell_type": "markdown",
      "metadata": {
        "id": "66BDIZr7bPPE"
      },
      "source": [
        "### 1) Setup\n",
        "Παρακάτω κάνουμε τα βασικά updates και στην συνέχεια τα imports μας."
      ]
    },
    {
      "cell_type": "code",
      "metadata": {
        "id": "oE3dVD6Ebcmw",
        "colab": {
          "base_uri": "https://localhost:8080/"
        },
        "outputId": "7b78a5cd-d845-40e3-a3e9-10b8b2de8f83"
      },
      "source": [
        "!pip install --upgrade pip #upgrade pip package installer\n",
        "!pip install scikit-learn --upgrade #upgrade scikit-learn package\n",
        "!pip install numpy --upgrade #upgrade numpy package\n",
        "!pip install pandas --upgrade #--upgrade #upgrade pandas package"
      ],
      "execution_count": null,
      "outputs": [
        {
          "output_type": "stream",
          "name": "stdout",
          "text": [
            "Requirement already satisfied: pip in /usr/local/lib/python3.7/dist-packages (21.3.1)\n",
            "\u001b[33mWARNING: Running pip as the 'root' user can result in broken permissions and conflicting behaviour with the system package manager. It is recommended to use a virtual environment instead: https://pip.pypa.io/warnings/venv\u001b[0m\n",
            "Requirement already satisfied: scikit-learn in /usr/local/lib/python3.7/dist-packages (1.0.1)\n",
            "Requirement already satisfied: scipy>=1.1.0 in /usr/local/lib/python3.7/dist-packages (from scikit-learn) (1.4.1)\n",
            "Requirement already satisfied: threadpoolctl>=2.0.0 in /usr/local/lib/python3.7/dist-packages (from scikit-learn) (3.0.0)\n",
            "Requirement already satisfied: joblib>=0.11 in /usr/local/lib/python3.7/dist-packages (from scikit-learn) (1.1.0)\n",
            "Requirement already satisfied: numpy>=1.14.6 in /usr/local/lib/python3.7/dist-packages (from scikit-learn) (1.21.4)\n",
            "\u001b[33mWARNING: Running pip as the 'root' user can result in broken permissions and conflicting behaviour with the system package manager. It is recommended to use a virtual environment instead: https://pip.pypa.io/warnings/venv\u001b[0m\n",
            "Requirement already satisfied: numpy in /usr/local/lib/python3.7/dist-packages (1.21.4)\n",
            "\u001b[33mWARNING: Running pip as the 'root' user can result in broken permissions and conflicting behaviour with the system package manager. It is recommended to use a virtual environment instead: https://pip.pypa.io/warnings/venv\u001b[0m\n",
            "Requirement already satisfied: pandas in /usr/local/lib/python3.7/dist-packages (1.3.4)\n",
            "Requirement already satisfied: python-dateutil>=2.7.3 in /usr/local/lib/python3.7/dist-packages (from pandas) (2.8.2)\n",
            "Requirement already satisfied: pytz>=2017.3 in /usr/local/lib/python3.7/dist-packages (from pandas) (2018.9)\n",
            "Requirement already satisfied: numpy>=1.17.3 in /usr/local/lib/python3.7/dist-packages (from pandas) (1.21.4)\n",
            "Requirement already satisfied: six>=1.5 in /usr/local/lib/python3.7/dist-packages (from python-dateutil>=2.7.3->pandas) (1.15.0)\n",
            "\u001b[33mWARNING: Running pip as the 'root' user can result in broken permissions and conflicting behaviour with the system package manager. It is recommended to use a virtual environment instead: https://pip.pypa.io/warnings/venv\u001b[0m\n"
          ]
        }
      ]
    },
    {
      "cell_type": "code",
      "metadata": {
        "id": "jxkpQfrbak9k"
      },
      "source": [
        "import pandas as pd, numpy as np, matplotlib.pyplot as plt, time\n",
        "from imblearn.over_sampling import RandomOverSampler\n",
        "from sklearn.model_selection import train_test_split,GridSearchCV\n",
        "from sklearn.impute import SimpleImputer\n",
        "from sklearn.dummy import DummyClassifier\n",
        "from sklearn.neighbors import KNeighborsClassifier\n",
        "from sklearn.linear_model import LogisticRegression\n",
        "from sklearn.naive_bayes import GaussianNB\n",
        "from sklearn.metrics import accuracy_score,classification_report,confusion_matrix\n",
        "from sklearn.metrics import precision_recall_fscore_support,f1_score\n",
        "from sklearn.feature_selection import VarianceThreshold\n",
        "from sklearn import preprocessing\n",
        "from sklearn.preprocessing import StandardScaler,MinMaxScaler\n",
        "from sklearn.decomposition import PCA\n",
        "from imblearn.pipeline import Pipeline\n",
        "from sklearn.utils import shuffle\n",
        "from sklearn.model_selection import cross_validate\n",
        "import seaborn as sns"
      ],
      "execution_count": null,
      "outputs": []
    },
    {
      "cell_type": "markdown",
      "metadata": {
        "id": "JpbGkjhofIHH"
      },
      "source": [
        "### 2) Data proccessing\n",
        "Αφού έχουμε κάνει τα διαδικαστικά του setup προχωράμε στο data proccessing. Θα διαβάσουμε το dataset μας και θα το βάλουμε στην μεταβλητή data με το κατάλληλο format.\n",
        "\n",
        "Στην συνέχεια θα ελέγξουμε τα χαρακτηριστικά, τις ετικέτες κοκ"
      ]
    },
    {
      "cell_type": "code",
      "metadata": {
        "colab": {
          "base_uri": "https://localhost:8080/"
        },
        "id": "J2C5n1X9tpDy",
        "outputId": "238eeff1-2ca7-422f-c164-6d4c1525f565"
      },
      "source": [
        "df = pd.read_csv(\"magic04.data\",header=None)\n",
        "data = df.to_numpy()\n",
        "print(\"The Dataset contains\",data.shape[0],\"samples,\",data.shape[1]-1,\"features and a label.\")\n",
        "print(data)"
      ],
      "execution_count": null,
      "outputs": [
        {
          "output_type": "stream",
          "name": "stdout",
          "text": [
            "The Dataset contains 19020 samples, 10 features and a label.\n",
            "[[28.7967 16.0021 2.6449 ... 40.092 81.8828 'g']\n",
            " [31.6036 11.7235 2.5185 ... 6.3609 205.261 'g']\n",
            " [162.05200000000002 136.031 4.0612 ... 76.96 256.788 'g']\n",
            " ...\n",
            " [75.4455 47.5305 3.4483 ... 30.2987 256.5166 'h']\n",
            " [120.5135 76.9018 3.9939 ... 84.6874 408.3166 'h']\n",
            " [187.1814 53.0014 3.2093 ... 52.731 272.3174 'h']]\n"
          ]
        }
      ]
    },
    {
      "cell_type": "markdown",
      "metadata": {
        "id": "xGa9gX0FtpD2"
      },
      "source": [
        "Προκύπτει ότι το Dataset αποτελείται από 19020 δείγματα, καθένα εκ των οποίων έχει 10 χαρακτηριστικά συν την binary ετικέτα του. Στη συνέχεια θα εξετάσουμε το είδος των χαρακτηριστικών μέσω του δείγματος μιας και το dataset δεν έχει απουσιάζουσες τιμές."
      ]
    },
    {
      "cell_type": "code",
      "metadata": {
        "colab": {
          "base_uri": "https://localhost:8080/"
        },
        "id": "rtwfz7rxdC9q",
        "outputId": "ddb918bc-d6ca-4767-dbe6-ed86c663e130"
      },
      "source": [
        "print(\"Data types of features:\",set([type(feature) for feature in data[0]]))\n",
        "print(\"Inspection of features:\",data[0])"
      ],
      "execution_count": null,
      "outputs": [
        {
          "output_type": "stream",
          "name": "stdout",
          "text": [
            "Data types of features: {<class 'str'>, <class 'float'>}\n",
            "Inspection of features: [28.7967 16.0021 2.6449 0.3918 0.1982 27.7004 22.011 -8.2027 40.092\n",
            " 81.8828 'g']\n"
          ]
        }
      ]
    },
    {
      "cell_type": "markdown",
      "metadata": {
        "id": "k3A2ZZfUtpD6"
      },
      "source": [
        "Παρατηρούμε πως όλα τα χαρακτηριστικά έχουν float τιμές και η μόνη μη διατεταγμένη μορφή είναι η τελευταία στήλη που υποδηλώνει το label και είναι str."
      ]
    },
    {
      "cell_type": "markdown",
      "metadata": {
        "id": "8cm4XarktpD7"
      },
      "source": [
        "### 3) Data labeling\n",
        "\n",
        "Σύμφωνα με το documentation, οι ετικέτες των δειγμάτων λαμβάνουν τις τιμές g (gamma) ή h (hadron) και βρίσκονται στην τελευταία κολόνα."
      ]
    },
    {
      "cell_type": "code",
      "metadata": {
        "colab": {
          "base_uri": "https://localhost:8080/"
        },
        "id": "qnj5i0EEtpD8",
        "outputId": "2f6c78e9-687f-4c9a-beab-aa24239f69ae"
      },
      "source": [
        "labels = data[:,-1]\n",
        "feats  = data[:,:-1]\n",
        "print(\"Labels of the Dataset:\",set(labels))"
      ],
      "execution_count": null,
      "outputs": [
        {
          "output_type": "stream",
          "name": "stdout",
          "text": [
            "Labels of the Dataset: {'g', 'h'}\n"
          ]
        }
      ]
    },
    {
      "cell_type": "code",
      "metadata": {
        "colab": {
          "base_uri": "https://localhost:8080/"
        },
        "id": "XtNskq3RgE9N",
        "outputId": "6232afb8-315d-4e82-b0f9-72a452690915"
      },
      "source": [
        "print(labels)\n",
        "print(feats)"
      ],
      "execution_count": null,
      "outputs": [
        {
          "output_type": "stream",
          "name": "stdout",
          "text": [
            "['g' 'g' 'g' ... 'h' 'h' 'h']\n",
            "[[28.7967 16.0021 2.6449 ... -8.2027 40.092 81.8828]\n",
            " [31.6036 11.7235 2.5185 ... -9.9574 6.3609 205.261]\n",
            " [162.052 136.031 4.0612 ... -45.216 76.96 256.788]\n",
            " ...\n",
            " [75.4455 47.5305 3.4483 ... -9.4662 30.2987 256.5166]\n",
            " [120.5135 76.9018 3.9939 ... -63.8389 84.6874 408.3166]\n",
            " [187.1814 53.0014 3.2093 ... 31.4755 52.731 272.3174]]\n"
          ]
        }
      ]
    },
    {
      "cell_type": "markdown",
      "metadata": {
        "id": "i3XP4in-Q5KS"
      },
      "source": [
        "### 4) Missing Values"
      ]
    },
    {
      "cell_type": "code",
      "metadata": {
        "colab": {
          "base_uri": "https://localhost:8080/"
        },
        "id": "Vxxf_6PbfQrO",
        "outputId": "5e2f631c-abaf-4c41-ebfd-38b48b829c1a"
      },
      "source": [
        "cat magic04.data | grep \"?\" | wc -l"
      ],
      "execution_count": null,
      "outputs": [
        {
          "output_type": "stream",
          "name": "stdout",
          "text": [
            "0\n"
          ]
        }
      ]
    },
    {
      "cell_type": "markdown",
      "metadata": {
        "id": "BHRnMMgRiTzP"
      },
      "source": [
        "Παρατηρούμε, λοιπόν, ότι το dataset μας δεν έχει απουσιάζουσες τιμές. Η linux εντολή cat magic04.data τυπώνει τα περιεχόμενα του αρχείου magic04.data και με την εντολή grep \"?\" παίρνει\n",
        "τις άγνωστες τιμές και με τη βοήθεια της wc -l επιστρέφει τις γραμμές στις οποίες βρίσκονται."
      ]
    },
    {
      "cell_type": "markdown",
      "metadata": {
        "id": "NkqnsZGZepJX"
      },
      "source": [
        "### 5) Balance Inspection\n",
        "\n",
        "Αφού το dataset μας δεν έχει κενά στοιχεία και δεν χρειάζεται κάποια περαιτέρω επεξεργασία, προχωράμε με το να εξετάσουμε το balance του. Λόγω της binary φύσης των labels, μπορούμε να εκτιμήσουμε απευθείας πόσα στοιχεία ανήκουν σε κάθε κλάση μέσω της συνάρτησης sum(), άρα και να αποφανθούμε περί της ισορροπίας του Dataset, διαιρώντας με τον συνολικό αριθμό των δειγμάτων:"
      ]
    },
    {
      "cell_type": "code",
      "metadata": {
        "colab": {
          "base_uri": "https://localhost:8080/"
        },
        "id": "MzTLLhY8eocr",
        "outputId": "e1820029-db37-4fd5-87d8-609519e575d7"
      },
      "source": [
        "np_labels = np.array(labels)\n",
        "print(np_labels)\n",
        "print(feats.shape)\n",
        "#print(len(np_labels[np_labels=='g']),\"samples are gamma and\",len(np_labels)-len(np_labels[np_labels=='g']),\"are hadron\")\n",
        "print(len(np_labels[np_labels=='g']),\"samples are gamma and\",len(np_labels[np_labels=='h']),\"are hadron\")\n",
        "print(\"The balance of the Dataset is\",round(len(np_labels[np_labels=='g'])/len(labels),2),\"in favor of the gamma samples.\")"
      ],
      "execution_count": null,
      "outputs": [
        {
          "output_type": "stream",
          "name": "stdout",
          "text": [
            "['g' 'g' 'g' ... 'h' 'h' 'h']\n",
            "(19020, 10)\n",
            "12332 samples are gamma and 6688 are hadron\n",
            "The balance of the Dataset is 0.65 in favor of the gamma samples.\n"
          ]
        }
      ]
    },
    {
      "cell_type": "markdown",
      "metadata": {
        "id": "KOD94SQitpEF"
      },
      "source": [
        "Είναι εμφανές πως τα δεδομένα κλίνουν κατά ένα βαθμό στην κλάση gamma, συνεπώς τα δεδομένα μας δεν είναι καλώς ισορροπημένα. Παρότι το ποσοστό παραμένει οριακά μικρότερο από 2/3 και θα μπορούσαμε να μην κάνουμε κάτι επιπλέον, επιλέγουμε να εφαρμόσουμε oversampling, θεωρώντας ότι όσο πιο ισορροπημένο είναι το dataset, τόσο καλύτερα θα είναι τα αποτελέσματα. Για να γίνει αυτό θα προηγηθεί το split."
      ]
    },
    {
      "cell_type": "markdown",
      "metadata": {
        "id": "CQVgCCdWUslj"
      },
      "source": [
        "### 6) Singular Values\n",
        "\n",
        "Ελέγχουμε με το παρακάτω κομμάτι κώδικα αν υπάρχουν στήλες των οποίων οι τιμές είναι μοναδικές, ώστε να τις κάνουμε drop, προκειμένου να μην επηρεάσουν λανθασμένα το μοντέλο μας. Παρατηρούμε ότι δεν υπάρχουν στήλες με τέτοιες τιμές."
      ]
    },
    {
      "cell_type": "code",
      "metadata": {
        "id": "EOfTqhDjU5Nm"
      },
      "source": [
        "for column in df.columns:\n",
        "  if len(df[column].unique())==1:\n",
        "    print(f'column {column} has a singular value. You should drop it')"
      ],
      "execution_count": null,
      "outputs": []
    },
    {
      "cell_type": "markdown",
      "metadata": {
        "id": "XWjQ_8VNpjmZ"
      },
      "source": [
        "## Β) Προετοιμασία"
      ]
    },
    {
      "cell_type": "markdown",
      "metadata": {
        "id": "W_Zu-Is_tpEG"
      },
      "source": [
        "### 7) Train & Test split\n",
        "\n",
        "Σαν τελευταίο βήμα επεξεργασίας, θα χωρίσουμε τα δεδομένα σε train και test μέσω της αντίστοιχης συνάρτησης *train_test_split()* της Scikit-learn. Αντίστοιχα χωρίζουμε και τα labels. Επιλέγουμε σχήμα 30% για το test set:"
      ]
    },
    {
      "cell_type": "code",
      "metadata": {
        "id": "Kq_4PeoUtpEH"
      },
      "source": [
        "x_train,x_test,y_train,y_test = train_test_split(feats,labels,test_size=0.3,random_state=0) "
      ],
      "execution_count": null,
      "outputs": []
    },
    {
      "cell_type": "markdown",
      "metadata": {
        "id": "F2O6eNBbtpEK"
      },
      "source": [
        "Ως τελευταίο βήμα, θα εφαρμόσουμε oversampling ούτως ώστε να εξισορροπήσουμε το dataset, όπως προείπαμε. Η έννοια του oversampling ειναι πρακτικά η επανάληψη samples από την υπολείπουσα κλάση, ώστε ο λόγος τους να τείνει προς το ιδανικό 50%. Θα εφαρμόσουμε για αυτό το σκοπό την συνάρτηση της Scikit-learn:"
      ]
    },
    {
      "cell_type": "code",
      "metadata": {
        "colab": {
          "base_uri": "https://localhost:8080/"
        },
        "id": "XbUvHJALtpEL",
        "outputId": "395a44d6-b567-4c93-b59b-f7366b0ec6d2"
      },
      "source": [
        "ros = RandomOverSampler(random_state = 0)\n",
        "x_train, y_train = ros.fit_resample(x_train,y_train)\n",
        "balance = len(y_train[y_train=='g'])/len(y_train)\n",
        "\n",
        "print(\"The balance of the train set is\",balance)"
      ],
      "execution_count": null,
      "outputs": [
        {
          "output_type": "stream",
          "name": "stdout",
          "text": [
            "The balance of the train set is 0.5\n"
          ]
        }
      ]
    },
    {
      "cell_type": "markdown",
      "metadata": {
        "id": "ZyPBOtlUtpEO"
      },
      "source": [
        "Παρατηρούμε την απευθείας βελτίωση στο λόγο των 2 κλάσεων. Σημειώνουμε πως επιλέγουμε να ισορροπήσουμε μόνο τα δεδομένα εκπαίδευσης, τα οποία είναι και τα μόνα που οφείλουν να είναι ισορροπημένα. Γενικώς αποφεύγουμε οποιαδήποτε περαιτέρω επεξεργασία στα test δεδομένα."
      ]
    },
    {
      "cell_type": "markdown",
      "metadata": {
        "id": "vTzgFNS0puoN"
      },
      "source": [
        "## C) Ταξινόμηση"
      ]
    },
    {
      "cell_type": "markdown",
      "metadata": {
        "id": "COQY2igStpEQ"
      },
      "source": [
        "### 8) Classification & Metrics\n",
        "\n",
        "Οι ταξινομητές που θα μελετήσουμε είναι οι:\n",
        "\n",
        "* Dummy\n",
        "* Gaussian Naive Bayes (GNB)\n",
        "* KNearestNeighbors (kNN)\n",
        "* Logistic Regression (LR)\n",
        "\n"
      ]
    },
    {
      "cell_type": "markdown",
      "metadata": {
        "id": "C7IyhTnprL4G"
      },
      "source": [
        "Ορίζουμε αρχικά μία συνάρτηση που εκπαιδεύει τους dummy classifiers με default τιμές και επιστρέφει σε dictionary τα predictions κάθε ταξινομητή, την ακρίβεια του καθώς και τους χρόνους fit και train "
      ]
    },
    {
      "cell_type": "code",
      "metadata": {
        "id": "QLZvloaItpEU"
      },
      "source": [
        "def DummyClassification(x_train,y_train,x_test,y_test):\n",
        "    \n",
        "    scores, predictions, fit_times, pred_times = {}, {}, {}, {}\n",
        "\n",
        "    ### Initialization ###\n",
        "    \n",
        "    dc_uniform  = DummyClassifier(strategy=\"uniform\")\n",
        "    dc_const_gamma = DummyClassifier(strategy=\"constant\",constant='g')\n",
        "    dc_const_hadron = DummyClassifier(strategy=\"constant\",constant='h')\n",
        "    dc_stratified = DummyClassifier(strategy=\"stratified\")\n",
        "    dc_frequent = DummyClassifier(strategy=\"most_frequent\")\n",
        "\n",
        "    ### Fit ###\n",
        "    \n",
        "    start_time = time.time()\n",
        "    dc_uniform.fit(x_train, y_train)\n",
        "    fit_times['uniform'] = time.time()-start_time\n",
        "    \n",
        "    start_time = time.time()\n",
        "    dc_const_gamma.fit(x_train, y_train)\n",
        "    fit_times['const_gamma'] = time.time()-start_time\n",
        "    \n",
        "    start_time = time.time()\n",
        "    dc_const_hadron.fit(x_train, y_train)\n",
        "    fit_times['const_hadron'] = time.time()-start_time\n",
        "    \n",
        "    start_time = time.time()\n",
        "    dc_stratified.fit(x_train, y_train)\n",
        "    fit_times['stratified'] = time.time()-start_time\n",
        "    \n",
        "    start_time = time.time()\n",
        "    dc_frequent.fit(x_train,y_train)\n",
        "    fit_times['frequent'] = time.time()-start_time\n",
        "    \n",
        "    ### Predict ###\n",
        "    \n",
        "    start_time = time.time()\n",
        "    predictions['uniform']  = dc_uniform.predict(x_test)\n",
        "    pred_times['uniform'] = time.time()-start_time\n",
        "    \n",
        "    start_time = time.time()\n",
        "    predictions['const_gamma']  = dc_const_gamma.predict(x_test)\n",
        "    pred_times['const_gamma'] = time.time()-start_time\n",
        "    \n",
        "    start_time = time.time()\n",
        "    predictions['const_hadron']  = dc_const_hadron.predict(x_test)\n",
        "    pred_times['const_hadron'] = time.time()-start_time\n",
        "    \n",
        "    start_time = time.time()\n",
        "    predictions['stratified']  = dc_stratified.predict(x_test)\n",
        "    pred_times['stratified'] = time.time()-start_time\n",
        "    \n",
        "    start_time = time.time()\n",
        "    predictions['frequent'] = dc_frequent.predict(x_test)\n",
        "    pred_times['frequent'] = time.time()-start_time\n",
        "\n",
        "    ### Score ###\n",
        "    \n",
        "    scores['uniform']  = dc_uniform.score(x_test, y_test)\n",
        "    scores['const_gamma']  = dc_const_gamma.score(x_test, y_test)\n",
        "    scores['const_hadron']  = dc_const_hadron.score(x_test, y_test)\n",
        "    scores['stratified']  = dc_stratified.score(x_test, y_test)\n",
        "    scores['frequent'] = dc_frequent.score(x_test,y_test)\n",
        "    \n",
        "    return predictions, scores, fit_times, pred_times"
      ],
      "execution_count": null,
      "outputs": []
    },
    {
      "cell_type": "markdown",
      "metadata": {
        "id": "r21HtzVtolT0"
      },
      "source": [
        "### **Out of the Box**"
      ]
    },
    {
      "cell_type": "markdown",
      "metadata": {
        "id": "Kpso4UxkoK8O"
      },
      "source": [
        "Τρέχουμε όλους τους ταξινομητές χωρίς καμία βελτιστοποίηση."
      ]
    },
    {
      "cell_type": "markdown",
      "metadata": {
        "id": "U4ItMYRxo1H5"
      },
      "source": [
        "#### ***Dummy***"
      ]
    },
    {
      "cell_type": "code",
      "metadata": {
        "colab": {
          "base_uri": "https://localhost:8080/"
        },
        "id": "S9NNZ0n5u4LP",
        "outputId": "8f70e129-0900-4572-ddcc-21e678f607e6"
      },
      "source": [
        "predictions, accuracies, _, _ = DummyClassification(x_train, y_train, x_test, y_test)\n",
        "\n",
        "print(\"Confusion Matrices of the Dummy Classifier: \\n\")\n",
        "for strategy in predictions:\n",
        "  print(f'For strategy -> {strategy}:\\n {confusion_matrix(y_test, predictions[strategy])}')\n",
        "\n",
        "print(\"\\nF1 Score of the Dummy Classifier: \\n\")\n",
        "for strategy in predictions:\n",
        "  print(f'For strategy -> {strategy}:')\n",
        "  print(f'\\tMicro: {f1_score(y_test, predictions[strategy], average = \"micro\")}')\n",
        "  print(f'\\tMacro: {f1_score(y_test, predictions[strategy], average = \"macro\")}\\n')\n",
        "\n",
        "print(\"\\nAccuracy of the Dummy Classifier: \\n\")\n",
        "for strategy in accuracies:\n",
        "  print(f'For strategy -> {strategy}: {accuracies[strategy]}')"
      ],
      "execution_count": null,
      "outputs": [
        {
          "output_type": "stream",
          "name": "stdout",
          "text": [
            "Confusion Matrices of the Dummy Classifier: \n",
            "\n",
            "For strategy -> uniform:\n",
            " [[1821 1868]\n",
            " [1046  971]]\n",
            "For strategy -> const_gamma:\n",
            " [[3689    0]\n",
            " [2017    0]]\n",
            "For strategy -> const_hadron:\n",
            " [[   0 3689]\n",
            " [   0 2017]]\n",
            "For strategy -> stratified:\n",
            " [[1842 1847]\n",
            " [ 957 1060]]\n",
            "For strategy -> frequent:\n",
            " [[3689    0]\n",
            " [2017    0]]\n",
            "\n",
            "F1 Score of the Dummy Classifier: \n",
            "\n",
            "For strategy -> uniform:\n",
            "\tMicro: 0.48930949877322116\n",
            "\tMacro: 0.47771964361280284\n",
            "\n",
            "For strategy -> const_gamma:\n",
            "\tMicro: 0.6465124430424115\n",
            "\tMacro: 0.3926556679084619\n",
            "\n",
            "For strategy -> const_hadron:\n",
            "\tMicro: 0.3534875569575885\n",
            "\tMacro: 0.2611679399197203\n",
            "\n",
            "For strategy -> stratified:\n",
            "\tMicro: 0.5085874518051174\n",
            "\tMacro: 0.4991808910983322\n",
            "\n",
            "For strategy -> frequent:\n",
            "\tMicro: 0.6465124430424115\n",
            "\tMacro: 0.3926556679084619\n",
            "\n",
            "\n",
            "Accuracy of the Dummy Classifier: \n",
            "\n",
            "For strategy -> uniform: 0.4919383105502979\n",
            "For strategy -> const_gamma: 0.6465124430424115\n",
            "For strategy -> const_hadron: 0.3534875569575885\n",
            "For strategy -> stratified: 0.5\n",
            "For strategy -> frequent: 0.6465124430424115\n"
          ]
        }
      ]
    },
    {
      "cell_type": "markdown",
      "metadata": {
        "id": "6x0brOzIn0S9"
      },
      "source": [
        "#### ***GaussianNB***"
      ]
    },
    {
      "cell_type": "code",
      "metadata": {
        "colab": {
          "base_uri": "https://localhost:8080/"
        },
        "id": "i-Xx8pPg0NTU",
        "outputId": "16c1976b-35fa-4a1c-cd99-451f646b7dca"
      },
      "source": [
        "bayes = GaussianNB()\n",
        "bayes.fit(x_train, y_train)\n",
        "predictions['bayes'] = bayes.predict(x_test)\n",
        "accuracies['bayes'] = bayes.score(x_test, y_test)\n",
        "\n",
        "print(f'Confusion Matrices of the Gaussian Naive Bayes Classifier:\\n {confusion_matrix(y_test, predictions[\"bayes\"])}')\n",
        "\n",
        "print(\"\\nF1 Score of the Gaussian Naive Bayes Classifier: \\n\")\n",
        "print(f'\\tMicro: {f1_score(y_test, predictions[\"bayes\"], average = \"micro\")}')\n",
        "print(f'\\tMacro: {f1_score(y_test, predictions[\"bayes\"], average = \"macro\")}\\n')\n",
        "\n",
        "print(\"\\nAccuracy of the Gaussian Naive Bayes Classifier: \\n\")\n",
        "print(f'{accuracies[\"bayes\"]}')"
      ],
      "execution_count": null,
      "outputs": [
        {
          "output_type": "stream",
          "name": "stdout",
          "text": [
            "Confusion Matrices of the Gaussian Naive Bayes Classifier:\n",
            " [[3317  372]\n",
            " [1214  803]]\n",
            "\n",
            "F1 Score of the Gaussian Naive Bayes Classifier: \n",
            "\n",
            "\tMicro: 0.7220469681037505\n",
            "\tMacro: 0.6550943965753802\n",
            "\n",
            "\n",
            "Accuracy of the Gaussian Naive Bayes Classifier: \n",
            "\n",
            "0.7220469681037505\n"
          ]
        }
      ]
    },
    {
      "cell_type": "markdown",
      "metadata": {
        "id": "ptnEZQACnxJn"
      },
      "source": [
        "#### ***kNN***"
      ]
    },
    {
      "cell_type": "code",
      "metadata": {
        "colab": {
          "base_uri": "https://localhost:8080/"
        },
        "id": "iqJ5zHDp5w--",
        "outputId": "192d2a24-4c3b-47c8-ec02-b4273bb6bd59"
      },
      "source": [
        "knn = KNeighborsClassifier(n_neighbors = 1)\n",
        "knn.fit(x_train, y_train)\n",
        "predictions['knn'] = knn.predict(x_test)\n",
        "accuracies['knn'] = knn.score(x_test, y_test)\n",
        "\n",
        "print(f'Confusion Matrices of the kNN Classifier:\\n {confusion_matrix(y_test, predictions[\"knn\"])}')\n",
        "\n",
        "print(\"\\nF1 Score of the kNN Classifier: \\n\")\n",
        "print(f'\\tMicro: {f1_score(y_test, predictions[\"knn\"], average = \"micro\")}')\n",
        "print(f'\\tMacro: {f1_score(y_test, predictions[\"knn\"], average = \"macro\")}\\n')\n",
        "\n",
        "print(\"\\nAccuracy of the kNN Classifier: \\n\")\n",
        "print(f'{accuracies[\"knn\"]}')"
      ],
      "execution_count": null,
      "outputs": [
        {
          "output_type": "stream",
          "name": "stdout",
          "text": [
            "Confusion Matrices of the kNN Classifier:\n",
            " [[3189  500]\n",
            " [ 765 1252]]\n",
            "\n",
            "F1 Score of the kNN Classifier: \n",
            "\n",
            "\tMicro: 0.778303540133193\n",
            "\tMacro: 0.7494281405630201\n",
            "\n",
            "\n",
            "Accuracy of the kNN Classifier: \n",
            "\n",
            "0.7783035401331931\n"
          ]
        }
      ]
    },
    {
      "cell_type": "code",
      "metadata": {
        "colab": {
          "base_uri": "https://localhost:8080/"
        },
        "id": "1iaYDpaaGf0e",
        "outputId": "2bd6e65e-84fc-4a19-dac5-f9a69033627b"
      },
      "source": [
        "knn_validate = cross_validate(knn, x_train, y = y_train, cv = 10, return_train_score = True, scoring = ['accuracy'])\n",
        "print(\"average:\", np.mean(np.array(knn_validate[\"test_accuracy\"])))"
      ],
      "execution_count": null,
      "outputs": [
        {
          "output_type": "stream",
          "name": "stdout",
          "text": [
            "average: 0.8840195440524388\n"
          ]
        }
      ]
    },
    {
      "cell_type": "markdown",
      "metadata": {
        "id": "1Q2fa4svoBTs"
      },
      "source": [
        "#### ***Logistic Regression***"
      ]
    },
    {
      "cell_type": "code",
      "metadata": {
        "colab": {
          "base_uri": "https://localhost:8080/"
        },
        "id": "FtHXfAxk6KQ7",
        "outputId": "d150ec8a-b34c-47ac-986c-b35e8d84cfea"
      },
      "source": [
        "lr = LogisticRegression()\n",
        "lr.fit(x_train, y_train)\n",
        "predictions['lr'] = lr.predict(x_test)\n",
        "accuracies['lr'] = lr.score(x_test, y_test)\n",
        "\n",
        "print(f'Confusion Matrices of the Logistic Regression Classifier:\\n {confusion_matrix(y_test, predictions[\"lr\"])}')\n",
        "\n",
        "print(\"\\nF1 Score of the Logistic Regression Classifier: \\n\")\n",
        "print(f'\\tMicro: {f1_score(y_test, predictions[\"lr\"], average = \"micro\")}')\n",
        "print(f'\\tMacro: {f1_score(y_test, predictions[\"lr\"], average = \"macro\")}\\n')\n",
        "\n",
        "print(\"\\nAccuracy of the Logistic Regression Classifier: \\n\")\n",
        "print(f'{accuracies[\"lr\"]}')"
      ],
      "execution_count": null,
      "outputs": [
        {
          "output_type": "stream",
          "name": "stdout",
          "text": [
            "Confusion Matrices of the Logistic Regression Classifier:\n",
            " [[2995  694]\n",
            " [ 562 1455]]\n",
            "\n",
            "F1 Score of the Logistic Regression Classifier: \n",
            "\n",
            "\tMicro: 0.7798808271994392\n",
            "\tMacro: 0.7625873741785989\n",
            "\n",
            "\n",
            "Accuracy of the Logistic Regression Classifier: \n",
            "\n",
            "0.7798808271994392\n"
          ]
        },
        {
          "output_type": "stream",
          "name": "stderr",
          "text": [
            "/usr/local/lib/python3.7/dist-packages/sklearn/linear_model/_logistic.py:818: ConvergenceWarning: lbfgs failed to converge (status=1):\n",
            "STOP: TOTAL NO. of ITERATIONS REACHED LIMIT.\n",
            "\n",
            "Increase the number of iterations (max_iter) or scale the data as shown in:\n",
            "    https://scikit-learn.org/stable/modules/preprocessing.html\n",
            "Please also refer to the documentation for alternative solver options:\n",
            "    https://scikit-learn.org/stable/modules/linear_model.html#logistic-regression\n",
            "  extra_warning_msg=_LOGISTIC_SOLVER_CONVERGENCE_MSG,\n"
          ]
        }
      ]
    },
    {
      "cell_type": "code",
      "metadata": {
        "colab": {
          "base_uri": "https://localhost:8080/"
        },
        "id": "3BFUy7jnH9ed",
        "outputId": "13a396eb-5399-42ea-c1ca-5f57c899b98c"
      },
      "source": [
        "lr_validate = cross_validate(lr, x_train, y = y_train, cv = 10, return_train_score = True, scoring = ['accuracy'])\n",
        "print(\"average:\", np.mean(np.array(lr_validate[\"test_accuracy\"])))"
      ],
      "execution_count": null,
      "outputs": [
        {
          "output_type": "stream",
          "name": "stderr",
          "text": [
            "/usr/local/lib/python3.7/dist-packages/sklearn/linear_model/_logistic.py:818: ConvergenceWarning: lbfgs failed to converge (status=1):\n",
            "STOP: TOTAL NO. of ITERATIONS REACHED LIMIT.\n",
            "\n",
            "Increase the number of iterations (max_iter) or scale the data as shown in:\n",
            "    https://scikit-learn.org/stable/modules/preprocessing.html\n",
            "Please also refer to the documentation for alternative solver options:\n",
            "    https://scikit-learn.org/stable/modules/linear_model.html#logistic-regression\n",
            "  extra_warning_msg=_LOGISTIC_SOLVER_CONVERGENCE_MSG,\n",
            "/usr/local/lib/python3.7/dist-packages/sklearn/linear_model/_logistic.py:818: ConvergenceWarning: lbfgs failed to converge (status=1):\n",
            "STOP: TOTAL NO. of ITERATIONS REACHED LIMIT.\n",
            "\n",
            "Increase the number of iterations (max_iter) or scale the data as shown in:\n",
            "    https://scikit-learn.org/stable/modules/preprocessing.html\n",
            "Please also refer to the documentation for alternative solver options:\n",
            "    https://scikit-learn.org/stable/modules/linear_model.html#logistic-regression\n",
            "  extra_warning_msg=_LOGISTIC_SOLVER_CONVERGENCE_MSG,\n",
            "/usr/local/lib/python3.7/dist-packages/sklearn/linear_model/_logistic.py:818: ConvergenceWarning: lbfgs failed to converge (status=1):\n",
            "STOP: TOTAL NO. of ITERATIONS REACHED LIMIT.\n",
            "\n",
            "Increase the number of iterations (max_iter) or scale the data as shown in:\n",
            "    https://scikit-learn.org/stable/modules/preprocessing.html\n",
            "Please also refer to the documentation for alternative solver options:\n",
            "    https://scikit-learn.org/stable/modules/linear_model.html#logistic-regression\n",
            "  extra_warning_msg=_LOGISTIC_SOLVER_CONVERGENCE_MSG,\n",
            "/usr/local/lib/python3.7/dist-packages/sklearn/linear_model/_logistic.py:818: ConvergenceWarning: lbfgs failed to converge (status=1):\n",
            "STOP: TOTAL NO. of ITERATIONS REACHED LIMIT.\n",
            "\n",
            "Increase the number of iterations (max_iter) or scale the data as shown in:\n",
            "    https://scikit-learn.org/stable/modules/preprocessing.html\n",
            "Please also refer to the documentation for alternative solver options:\n",
            "    https://scikit-learn.org/stable/modules/linear_model.html#logistic-regression\n",
            "  extra_warning_msg=_LOGISTIC_SOLVER_CONVERGENCE_MSG,\n",
            "/usr/local/lib/python3.7/dist-packages/sklearn/linear_model/_logistic.py:818: ConvergenceWarning: lbfgs failed to converge (status=1):\n",
            "STOP: TOTAL NO. of ITERATIONS REACHED LIMIT.\n",
            "\n",
            "Increase the number of iterations (max_iter) or scale the data as shown in:\n",
            "    https://scikit-learn.org/stable/modules/preprocessing.html\n",
            "Please also refer to the documentation for alternative solver options:\n",
            "    https://scikit-learn.org/stable/modules/linear_model.html#logistic-regression\n",
            "  extra_warning_msg=_LOGISTIC_SOLVER_CONVERGENCE_MSG,\n",
            "/usr/local/lib/python3.7/dist-packages/sklearn/linear_model/_logistic.py:818: ConvergenceWarning: lbfgs failed to converge (status=1):\n",
            "STOP: TOTAL NO. of ITERATIONS REACHED LIMIT.\n",
            "\n",
            "Increase the number of iterations (max_iter) or scale the data as shown in:\n",
            "    https://scikit-learn.org/stable/modules/preprocessing.html\n",
            "Please also refer to the documentation for alternative solver options:\n",
            "    https://scikit-learn.org/stable/modules/linear_model.html#logistic-regression\n",
            "  extra_warning_msg=_LOGISTIC_SOLVER_CONVERGENCE_MSG,\n",
            "/usr/local/lib/python3.7/dist-packages/sklearn/linear_model/_logistic.py:818: ConvergenceWarning: lbfgs failed to converge (status=1):\n",
            "STOP: TOTAL NO. of ITERATIONS REACHED LIMIT.\n",
            "\n",
            "Increase the number of iterations (max_iter) or scale the data as shown in:\n",
            "    https://scikit-learn.org/stable/modules/preprocessing.html\n",
            "Please also refer to the documentation for alternative solver options:\n",
            "    https://scikit-learn.org/stable/modules/linear_model.html#logistic-regression\n",
            "  extra_warning_msg=_LOGISTIC_SOLVER_CONVERGENCE_MSG,\n",
            "/usr/local/lib/python3.7/dist-packages/sklearn/linear_model/_logistic.py:818: ConvergenceWarning: lbfgs failed to converge (status=1):\n",
            "STOP: TOTAL NO. of ITERATIONS REACHED LIMIT.\n",
            "\n",
            "Increase the number of iterations (max_iter) or scale the data as shown in:\n",
            "    https://scikit-learn.org/stable/modules/preprocessing.html\n",
            "Please also refer to the documentation for alternative solver options:\n",
            "    https://scikit-learn.org/stable/modules/linear_model.html#logistic-regression\n",
            "  extra_warning_msg=_LOGISTIC_SOLVER_CONVERGENCE_MSG,\n",
            "/usr/local/lib/python3.7/dist-packages/sklearn/linear_model/_logistic.py:818: ConvergenceWarning: lbfgs failed to converge (status=1):\n",
            "STOP: TOTAL NO. of ITERATIONS REACHED LIMIT.\n",
            "\n",
            "Increase the number of iterations (max_iter) or scale the data as shown in:\n",
            "    https://scikit-learn.org/stable/modules/preprocessing.html\n",
            "Please also refer to the documentation for alternative solver options:\n",
            "    https://scikit-learn.org/stable/modules/linear_model.html#logistic-regression\n",
            "  extra_warning_msg=_LOGISTIC_SOLVER_CONVERGENCE_MSG,\n"
          ]
        },
        {
          "output_type": "stream",
          "name": "stdout",
          "text": [
            "average: 0.7584758504166399\n"
          ]
        },
        {
          "output_type": "stream",
          "name": "stderr",
          "text": [
            "/usr/local/lib/python3.7/dist-packages/sklearn/linear_model/_logistic.py:818: ConvergenceWarning: lbfgs failed to converge (status=1):\n",
            "STOP: TOTAL NO. of ITERATIONS REACHED LIMIT.\n",
            "\n",
            "Increase the number of iterations (max_iter) or scale the data as shown in:\n",
            "    https://scikit-learn.org/stable/modules/preprocessing.html\n",
            "Please also refer to the documentation for alternative solver options:\n",
            "    https://scikit-learn.org/stable/modules/linear_model.html#logistic-regression\n",
            "  extra_warning_msg=_LOGISTIC_SOLVER_CONVERGENCE_MSG,\n"
          ]
        }
      ]
    },
    {
      "cell_type": "markdown",
      "metadata": {
        "id": "fMQk5KlC9vGT"
      },
      "source": [
        "#### *Bar Plots*"
      ]
    },
    {
      "cell_type": "code",
      "metadata": {
        "colab": {
          "base_uri": "https://localhost:8080/",
          "height": 636
        },
        "id": "E-GST-Qd91hA",
        "outputId": "7ee73e98-0a84-48e8-e4cf-f68dd7f45ae8"
      },
      "source": [
        "f1_macros, f1_micros, labels = [],[],[]\n",
        "for clf in predictions:  \n",
        "    f1_micros.append(f1_score(y_test,predictions[clf],average='micro'))\n",
        "    f1_macros.append(f1_score(y_test,predictions[clf],average='macro'))\n",
        "    labels.append(clf)\n",
        "\n",
        "x = np.arange(len(labels))\n",
        "width = 0.25\n",
        "\n",
        "fig, ax = plt.subplots()\n",
        "rects1 = ax.bar(x - width/2, f1_micros, width, label='f1_micros')\n",
        "rects2 = ax.bar(x + width/2, f1_macros, width, label='f1_macros')\n",
        "\n",
        "fig.set_size_inches(18.5, 10.5)\n",
        "ax.set_ylabel('Scores')\n",
        "ax.set_title('Performance Comparison on F1-Score')\n",
        "ax.set_xticks(x)\n",
        "ax.set_xticklabels(labels)\n",
        "ax.legend()\n",
        "\n",
        "plt.show()"
      ],
      "execution_count": null,
      "outputs": [
        {
          "output_type": "display_data",
          "data": {
            "image/png": "[encoded data removed]",
            "text/plain": [
              "<Figure size 1332x756 with 1 Axes>"
            ]
          },
          "metadata": {
            "needs_background": "light"
          }
        }
      ]
    },
    {
      "cell_type": "code",
      "metadata": {
        "colab": {
          "base_uri": "https://localhost:8080/",
          "height": 636
        },
        "id": "WfItXCe5-ALj",
        "outputId": "119a66d4-f906-47ed-e87c-0e3fbbda0c51"
      },
      "source": [
        "scores, acc_labels = [],[]\n",
        "for clf in accuracies:  \n",
        "    scores.append(accuracies[clf])\n",
        "    acc_labels.append(clf)\n",
        "\n",
        "x = np.arange(len(acc_labels))\n",
        "width = 0.25\n",
        "\n",
        "fig, ax = plt.subplots()\n",
        "rects1 = ax.bar(x - width/2, scores, width, label='accuracy')\n",
        "\n",
        "fig.set_size_inches(18.5, 10.5)\n",
        "ax.set_ylabel('Scores')\n",
        "ax.set_title('Performance Comparison on Accuracy')\n",
        "ax.set_xticks(x)\n",
        "ax.set_xticklabels(acc_labels)\n",
        "ax.legend()\n",
        "\n",
        "plt.show()"
      ],
      "execution_count": null,
      "outputs": [
        {
          "output_type": "display_data",
          "data": {
            "image/png": "[encoded data removed]",
            "text/plain": [
              "<Figure size 1332x756 with 1 Axes>"
            ]
          },
          "metadata": {
            "needs_background": "light"
          }
        }
      ]
    },
    {
      "cell_type": "markdown",
      "metadata": {
        "id": "edkmnC9r_hPy"
      },
      "source": [
        "#### *Discussion*"
      ]
    },
    {
      "cell_type": "markdown",
      "metadata": {
        "id": "YQ9PBVov_7EA"
      },
      "source": [
        "* Μεταξύ των dummy ταξινομητών, η καλύτερη στρατηγική είναι να διαλέγουμε πάντοτε την πιο συχνή κλάση (frequent) ή ισοδύναμα σταθερά την κλάση που είναι η πιο συχνή (constant-0), μιας και το test set δεν είναι ισορροπημένο, όπως φαίνεται παραπάνω.\n",
        "* Εαν δοκιμάσουμε πολλά runs, θα παρατηρήσουμε ότι η επιλογή stratified, δηλαδή να επιλέγουμε τυχαία κλάση διατηρώντας την κατανομή των κλάσεων στο training set, ενώ στη γενική περίπτωση δίνει καλύτερα αποτελέσματα από τη random επιλογή, στη προκειμένη, λόγω της ισορροπίας του train dataset, οι δύο μέθοδοι είναι ισοδύναμες. \n",
        "* Ο k-NN ταξινομητής δίνει καλύτερο αποτέλεσμα από τους dummy classifiers, αφού βασίζεται σε έναν αλγόριθμο λογικής ανάλυσης των δεδομένων. Επιπλέον λόγω του εκτενούς μεγέθους του test dataset, το αποτέλεσμα του ταξινομητή είναι ικανοποιητικό.\n",
        "* Ο Naive Bayes εμφανίζει επίσης βελτιωμένα αποτελέσματα συγκριτικά με τους dummy ταξινομητές, αλλά όχι καλύτερα από τον kNN. Αυτό οφείλεται στις \"αφελείς\" παραδοχές του συγκεκριμένου ταξινομήτη, όπως το ότι υποθέτει κανονική κατανομή των features και ανεξαρτησία μεταξύ τους.\n",
        "* Τέλος, ο Logistic Regression εμφανίζει τη δεύτερη καλύτερη επίδοση μετά τον kNN. "
      ]
    },
    {
      "cell_type": "markdown",
      "metadata": {
        "id": "9gpPYqZpCQ2k"
      },
      "source": [
        "### 9) **Optimization**"
      ]
    },
    {
      "cell_type": "markdown",
      "metadata": {
        "id": "lmDqRU87o087"
      },
      "source": [
        "Δεν έχει νόημα να κάνουμε βελτιστοποίηση στους NGB και στους Dummy Classifiers, αφού δεν επηρεάζονται καθόλου από το pre-processing που θα ακολουθήσουμε. Αυτό συμβαίνει, καθώς δεν έχουν παραμέτρους προς βελτιστοποίηση."
      ]
    },
    {
      "cell_type": "markdown",
      "metadata": {
        "id": "AMIY27I2Cobv"
      },
      "source": [
        "#### *Pre-Processing*"
      ]
    },
    {
      "cell_type": "markdown",
      "metadata": {
        "id": "WAqzotDqqz6z"
      },
      "source": [
        "Αρχικοποιούμε τους εκτιμητές:"
      ]
    },
    {
      "cell_type": "code",
      "metadata": {
        "id": "53XifouYqsmd"
      },
      "source": [
        "selector = VarianceThreshold()\n",
        "minmax = MinMaxScaler()\n",
        "pca = PCA()"
      ],
      "execution_count": null,
      "outputs": []
    },
    {
      "cell_type": "markdown",
      "metadata": {
        "id": "MyVRpKkWzJUn"
      },
      "source": [
        "Η διαδικασία εύρεσης των βέλτιστων υπερπαραμέτρων είναι εξαιρετικά χρονοβόρα και επαναληπτική διαδικασία πειραματισμών. Για αυτό το λόγο θα εκμεταλλευτούμε το μεγάλο μέγεθος του dataset και θα χρησιμοποιήσουμε μόνο ένα υποσύνολο των διαθέσιμων δειγμάτων:"
      ]
    },
    {
      "cell_type": "code",
      "metadata": {
        "id": "QkIPVnYmzRil"
      },
      "source": [
        "x_train_copy = x_train\n",
        "y_train_copy = y_train\n",
        "x_test_copy  = x_test\n",
        "y_test_copy  = y_test\n",
        "\n",
        "x_train_sample, y_train_sample = shuffle(x_train, y_train, random_state=3)\n",
        "x_train_sample = x_train_sample[0:2000,:]\n",
        "y_train_sample = y_train_sample[0:2000]"
      ],
      "execution_count": null,
      "outputs": []
    },
    {
      "cell_type": "markdown",
      "metadata": {
        "id": "5BWppby3zbuG"
      },
      "source": [
        "Μπορούμε τώρα να προχωρήσουμε στην εύρεση των βέλτιστων παραμέτρων των μοντέλων μας. Θα εξετάσουμε χωριστά τις παραμέτρους των ταξινομητών kΝΝ και Logistic Regression. Επίσης, επιλέγουμε να μην κάνουμε feature selection καθώς ο αριθμός των features είναι ήδη αρκετά μικρός σε σύγκριση με την ποσότητα των δεδομένων."
      ]
    },
    {
      "cell_type": "code",
      "metadata": {
        "id": "4HBdDqim-_D-"
      },
      "source": [
        "fit_times, pred_times, new_predictions, new_accuracies = {}, {}, {}, {}"
      ],
      "execution_count": null,
      "outputs": []
    },
    {
      "cell_type": "code",
      "metadata": {
        "id": "__7uH-lX2Aq0"
      },
      "source": [
        "for strategy in predictions:\n",
        "  new_predictions[strategy] = predictions[strategy]\n",
        "for strategy in accuracies:\n",
        "  new_accuracies[strategy] = accuracies[strategy]"
      ],
      "execution_count": null,
      "outputs": []
    },
    {
      "cell_type": "markdown",
      "metadata": {
        "id": "br7UX8JHzmMt"
      },
      "source": [
        "#### ***kNN***"
      ]
    },
    {
      "cell_type": "code",
      "metadata": {
        "id": "ZBmnuU7jzsmg"
      },
      "source": [
        "knn = KNeighborsClassifier(n_jobs=-1)\n",
        "\n",
        "n_components = np.arange(1,11)\n",
        "k = np.arange(1,50,5)\n",
        "knn_weights = ['uniform','distance']\n",
        "knn_metrics = ['euclidean','manhattan','chebyshev']"
      ],
      "execution_count": null,
      "outputs": []
    },
    {
      "cell_type": "markdown",
      "metadata": {
        "id": "RFyp8aT_C0Zy"
      },
      "source": [
        "##### *kNN Pipelines*"
      ]
    },
    {
      "cell_type": "code",
      "metadata": {
        "colab": {
          "base_uri": "https://localhost:8080/"
        },
        "id": "B0OkpQ820QHh",
        "outputId": "d77fc38b-b4d4-4ab7-994c-189620f60724"
      },
      "source": [
        "pipe = Pipeline(steps=[('scaler', minmax),('selector', selector),('pca', pca),('kNN', knn)])\n",
        "knn_estimator = GridSearchCV(pipe, dict(pca__n_components = n_components,\n",
        "                                        kNN__n_neighbors = k,\n",
        "                                        kNN__weights = knn_weights,\n",
        "                                        kNN__metric = knn_metrics), cv=10, scoring='f1_macro', n_jobs=-1,verbose=1)\n",
        "\n",
        "start_time = time.time()\n",
        "knn_estimator.fit(x_train_sample, y_train_sample)\n",
        "knn_estimator.predict(x_test)\n",
        "print(\"Overall fit and predict time: %s seconds\" % (time.time()-start_time))\n",
        "print(\"Best parameters\",knn_estimator.best_params_)                            "
      ],
      "execution_count": null,
      "outputs": [
        {
          "output_type": "stream",
          "name": "stdout",
          "text": [
            "Fitting 10 folds for each of 600 candidates, totalling 6000 fits\n",
            "Overall fit and predict time: 367.9833629131317 seconds\n",
            "Best parameters {'kNN__metric': 'manhattan', 'kNN__n_neighbors': 6, 'kNN__weights': 'distance', 'pca__n_components': 10}\n"
          ]
        }
      ]
    },
    {
      "cell_type": "markdown",
      "metadata": {
        "id": "b5KiEsPB4Jcv"
      },
      "source": [
        "Έχοντας εξάγει παραμέτρους για ένα μικρό δείγμα του train set, επαναλαμβάνουμε την διαδικασία για όλο το dataset με πολύ μικρότερο εύρος παραμέτρων, ώστε να έχουμε μεγάλη ακρίβεια."
      ]
    },
    {
      "cell_type": "code",
      "metadata": {
        "id": "4TmElrPP4Rye"
      },
      "source": [
        "n_components = np.arange(9,11)\n",
        "k = np.arange(3,9)\n",
        "knn_weights = ['distance']\n",
        "knn_metrics = ['manhattan']"
      ],
      "execution_count": null,
      "outputs": []
    },
    {
      "cell_type": "code",
      "metadata": {
        "colab": {
          "base_uri": "https://localhost:8080/"
        },
        "id": "fk9T_tNS4prm",
        "outputId": "7ee403e6-180c-44e4-d1b0-0967ba189bdc"
      },
      "source": [
        "pipe = Pipeline(steps=[('scaler', minmax),('selector', selector),('pca', pca),('kNN', knn)])\n",
        "knn_estimator = GridSearchCV(pipe, dict(pca__n_components = n_components,\n",
        "                                        kNN__n_neighbors = k,\n",
        "                                        kNN__weights = knn_weights,\n",
        "                                        kNN__metric = knn_metrics), cv=10, scoring='f1_macro', n_jobs=-1,verbose=1)\n",
        "\n",
        "start_time = time.time()\n",
        "knn_estimator.fit(x_train, y_train)\n",
        "knn_estimator.predict(x_test)\n",
        "print(\"Overall fit and predict time: %s seconds\" % (time.time()-start_time))\n",
        "print(\"Best parameters\",knn_estimator.best_params_)"
      ],
      "execution_count": null,
      "outputs": [
        {
          "output_type": "stream",
          "name": "stdout",
          "text": [
            "Fitting 10 folds for each of 12 candidates, totalling 120 fits\n",
            "Overall fit and predict time: 23.11628746986389 seconds\n",
            "Best parameters {'kNN__metric': 'manhattan', 'kNN__n_neighbors': 8, 'kNN__weights': 'distance', 'pca__n_components': 10}\n"
          ]
        }
      ]
    },
    {
      "cell_type": "markdown",
      "metadata": {
        "id": "rGV1EbIq58mz"
      },
      "source": [
        "Έχοντας τώρα τις βέλτιστες παραμέτρους, εκπαιδεύουμε το train set με kNN ταξινομητή."
      ]
    },
    {
      "cell_type": "code",
      "metadata": {
        "colab": {
          "base_uri": "https://localhost:8080/"
        },
        "id": "eVxcp4Jq7KaY",
        "outputId": "f82d6327-927b-4c7b-dfeb-99ecf475e59a"
      },
      "source": [
        "x_train_copy = minmax.fit_transform(x_train)\n",
        "x_test_copy = minmax.fit_transform(x_test)\n",
        "\n",
        "pca_complete = PCA(knn_estimator.best_params_['pca__n_components'])\n",
        "\n",
        "x_train_copy = pca_complete.fit_transform(x_train_copy)\n",
        "x_test_copy = pca_complete.fit_transform(x_test_copy)\n",
        "\n",
        "knn = KNeighborsClassifier(n_neighbors=knn_estimator.best_params_['kNN__n_neighbors'],\n",
        "                           weights=knn_estimator.best_params_['kNN__weights'],\n",
        "                           metric=knn_estimator.best_params_['kNN__metric'])\n",
        "\n",
        "start_time = time.time()\n",
        "knn.fit(x_train_copy,y_train_copy)\n",
        "fit_times['knn'] = time.time() - start_time\n",
        "\n",
        "start_time = time.time()\n",
        "new_predictions['knn'] = knn.predict(x_test_copy)\n",
        "pred_times['knn'] = time.time() - start_time\n",
        "\n",
        "new_accuracies['knn'] = knn.score(x_test_copy,y_test)\n",
        "\n",
        "\n",
        "print(f'Confusion Matrices of the kNN Classifier:\\n {confusion_matrix(y_test, new_predictions[\"knn\"])}')\n",
        "\n",
        "print(\"\\nAccuracy of the kNN Classifier:\")\n",
        "print(f'{new_accuracies[\"knn\"]}')\n",
        "\n",
        "print(\"\\nClassification Report of k-NN:\\n\", classification_report(y_test,new_predictions['knn']))"
      ],
      "execution_count": null,
      "outputs": [
        {
          "output_type": "stream",
          "name": "stdout",
          "text": [
            "Confusion Matrices of the kNN Classifier:\n",
            " [[3021  668]\n",
            " [ 484 1533]]\n",
            "\n",
            "Accuracy of the kNN Classifier:\n",
            "0.7981072555205048\n",
            "\n",
            "Classification Report of k-NN:\n",
            "               precision    recall  f1-score   support\n",
            "\n",
            "           g       0.86      0.82      0.84      3689\n",
            "           h       0.70      0.76      0.73      2017\n",
            "\n",
            "    accuracy                           0.80      5706\n",
            "   macro avg       0.78      0.79      0.78      5706\n",
            "weighted avg       0.80      0.80      0.80      5706\n",
            "\n"
          ]
        }
      ]
    },
    {
      "cell_type": "markdown",
      "metadata": {
        "id": "XnNNkR6lCr2y"
      },
      "source": [
        "#### ***Logistic Regression***"
      ]
    },
    {
      "cell_type": "code",
      "metadata": {
        "id": "rVQJ7o2vC28J"
      },
      "source": [
        "lr = LogisticRegression()\n",
        "\n",
        "params = [{'lr__penalty': ['l1'], 'lr__C': [0.01, 0.1, 1, 10, 100], 'lr__solver': ['liblinear', 'saga'], 'pca__n_components' : np.arange(1,11)},\n",
        "          {'lr__penalty': ['l2'], 'lr__C': [0.01, 0.1, 1, 10, 100], 'lr__solver': ['sag', 'liblinear', 'newton-cg', 'lbfgs', 'saga'], 'pca__n_components' : np.arange(1,11)}, \n",
        "          {'lr__penalty': ['l1', 'l2'], 'lr__C': [0.01, 0.1, 1, 10, 100], 'lr__solver': ['liblinear', 'saga'], 'pca__n_components' : np.arange(1,11)},\n",
        "          {'lr__penalty': ['l1','l2', 'elasticnet', 'none'], 'lr__C': [0.01, 0.1, 1, 10, 100], 'lr__l1_ratio': [0, 0.5, 1], 'lr__solver': ['saga'], 'pca__n_components' : np.arange(1,11)},\n",
        "          {'lr__penalty': ['l2', 'none'], 'lr__C': [0.01, 0.1, 1, 10, 100], 'lr__solver': ['sag', 'newton-cg', 'lbfgs', 'saga'], 'pca__n_components' : np.arange(1,11)},\n",
        "          {'lr__penalty': ['l1', 'none'], 'lr__C': [0.01, 0.1, 1, 10, 100], 'lr__solver': ['saga'], 'pca__n_components' : np.arange(1,11)},\n",
        "          {'lr__penalty': ['none'], 'lr__C': [0.01, 0.1, 1, 10, 100], 'lr__solver': ['sag', 'newton-cg', 'lbfgs', 'saga'], 'pca__n_components' : np.arange(1,11)}] "
      ],
      "execution_count": null,
      "outputs": []
    },
    {
      "cell_type": "markdown",
      "metadata": {
        "id": "Pw8eP2eZGQ7H"
      },
      "source": [
        "##### *LR Pipelines*"
      ]
    },
    {
      "cell_type": "code",
      "metadata": {
        "colab": {
          "base_uri": "https://localhost:8080/"
        },
        "id": "eViIgZYKGqU5",
        "outputId": "74bdfc19-d127-4e0c-c63c-44433cca8da9"
      },
      "source": [
        "pipe = Pipeline(steps=[('scaler', minmax),('selector', selector),('pca', pca),('lr', lr)])\n",
        "lr_estimator = GridSearchCV(pipe, params, cv=10, scoring='f1_macro', n_jobs=-1,verbose=1)\n",
        "\n",
        "start_time = time.time()\n",
        "lr_estimator.fit(x_train_sample, y_train_sample)\n",
        "lr_estimator.predict(x_test)\n",
        "print(\"Overall fit and predict time: %s seconds\" % (time.time()-start_time))\n",
        "print(\"Best parameters\",lr_estimator.best_params_) "
      ],
      "execution_count": null,
      "outputs": [
        {
          "output_type": "stream",
          "name": "stdout",
          "text": [
            "Fitting 10 folds for each of 1850 candidates, totalling 18500 fits\n",
            "Overall fit and predict time: 277.79481768608093 seconds\n",
            "Best parameters {'lr__C': 1, 'lr__penalty': 'l1', 'lr__solver': 'saga', 'pca__n_components': 9}\n"
          ]
        }
      ]
    },
    {
      "cell_type": "markdown",
      "metadata": {
        "id": "g4NxIj8NHloc"
      },
      "source": [
        "Και τα optimal:"
      ]
    },
    {
      "cell_type": "code",
      "metadata": {
        "id": "UMJ1LboYKugS"
      },
      "source": [
        "params = [{'lr__penalty': ['l1'], 'lr__C': [0.1, 1, 10], 'lr__solver': ['saga'], 'pca__n_components' : np.arange(8,11)}] "
      ],
      "execution_count": null,
      "outputs": []
    },
    {
      "cell_type": "code",
      "metadata": {
        "colab": {
          "base_uri": "https://localhost:8080/"
        },
        "id": "Hagty1DAH8eW",
        "outputId": "fec9059b-3da9-42f2-e672-5967e7af9873"
      },
      "source": [
        "pipe = Pipeline(steps=[('scaler', minmax),('selector', selector),('pca', pca),('lr', lr)])\n",
        "lr_estimator = GridSearchCV(pipe, params, cv=10, scoring='f1_macro', n_jobs=-1,verbose=1)\n",
        "\n",
        "start_time = time.time()\n",
        "lr_estimator.fit(x_train, y_train)\n",
        "lr_estimator.predict(x_test)\n",
        "print(\"Overall fit and predict time: %s seconds\" % (time.time()-start_time))\n",
        "print(\"Best parameters\",lr_estimator.best_params_) "
      ],
      "execution_count": null,
      "outputs": [
        {
          "output_type": "stream",
          "name": "stdout",
          "text": [
            "Fitting 10 folds for each of 9 candidates, totalling 90 fits\n",
            "Overall fit and predict time: 12.16222095489502 seconds\n",
            "Best parameters {'lr__C': 10, 'lr__penalty': 'l1', 'lr__solver': 'saga', 'pca__n_components': 10}\n"
          ]
        }
      ]
    },
    {
      "cell_type": "markdown",
      "metadata": {
        "id": "bVHL1lxTMkC3"
      },
      "source": [
        "Training:"
      ]
    },
    {
      "cell_type": "code",
      "metadata": {
        "colab": {
          "base_uri": "https://localhost:8080/"
        },
        "id": "WE1N5KcNMlve",
        "outputId": "f78d9887-4a07-47d8-fc79-97ac354ea43f"
      },
      "source": [
        "x_train_copy = minmax.fit_transform(x_train)\n",
        "x_test_copy = minmax.fit_transform(x_test)\n",
        "\n",
        "pca_complete = PCA(lr_estimator.best_params_['pca__n_components'])\n",
        "\n",
        "x_train_copy = pca_complete.fit_transform(x_train_copy)\n",
        "x_test_copy = pca_complete.fit_transform(x_test_copy)\n",
        "\n",
        "logreg = LogisticRegression(C=lr_estimator.best_params_['lr__C'],\n",
        "                        penalty=lr_estimator.best_params_['lr__penalty'],\n",
        "                        solver=lr_estimator.best_params_['lr__solver'],\n",
        "                        max_iter=500, tol=1e5)\n",
        "\n",
        "start_time = time.time()\n",
        "logreg.fit(x_train_copy,y_train_copy)\n",
        "fit_times['lr'] = time.time() - start_time\n",
        "\n",
        "start_time = time.time()\n",
        "new_predictions['lr'] = logreg.predict(x_test_copy)\n",
        "pred_times['lr'] = time.time() - start_time\n",
        "\n",
        "new_accuracies['lr'] = logreg.score(x_test_copy,y_test)\n",
        "\n",
        "\n",
        "print(f'Confusion Matrices of the lr Classifier:\\n {confusion_matrix(y_test, new_predictions[\"lr\"])}')\n",
        "\n",
        "print(\"\\nAccuracy of the lr Classifier:\")\n",
        "print(f'{new_accuracies[\"lr\"]}')\n",
        "\n",
        "print(\"\\nClassification Report of lr:\\n\", classification_report(y_test,new_predictions['lr']))"
      ],
      "execution_count": null,
      "outputs": [
        {
          "output_type": "stream",
          "name": "stdout",
          "text": [
            "Confusion Matrices of the lr Classifier:\n",
            " [[2982  707]\n",
            " [ 544 1473]]\n",
            "\n",
            "Accuracy of the lr Classifier:\n",
            "0.7807570977917981\n",
            "\n",
            "Classification Report of lr:\n",
            "               precision    recall  f1-score   support\n",
            "\n",
            "           g       0.85      0.81      0.83      3689\n",
            "           h       0.68      0.73      0.70      2017\n",
            "\n",
            "    accuracy                           0.78      5706\n",
            "   macro avg       0.76      0.77      0.76      5706\n",
            "weighted avg       0.79      0.78      0.78      5706\n",
            "\n"
          ]
        }
      ]
    },
    {
      "cell_type": "markdown",
      "metadata": {
        "id": "1HdKDViGpMHG"
      },
      "source": [
        "### 10) **Results**"
      ]
    },
    {
      "cell_type": "markdown",
      "metadata": {
        "id": "l4DwEJWYvkZ9"
      },
      "source": [
        "Markdown πίνακας. Περιέχει τις προηγούμενες (out of the box) τιμές των knn, lr και στα delta φαίνονται οι καινούργιες τους."
      ]
    },
    {
      "cell_type": "markdown",
      "metadata": {
        "id": "1NnYJPj4wUz1"
      },
      "source": [
        "| Classifier | F1 Score (Micro) | F1 Score (Macro) | Accuracy | Delta_F1 Score (Macro) | Delta_Accuracy | Train_Time | Test_Time |\n",
        "|:----:|:------:|:-------:|:--------:|:--------:|:--------:|:--------:|:--------:|\n",
        "| **dc_uniform**       |         0.4893 |     0.4777     |0.4919|0.0|0.0|-|-|\n",
        "| **dc_const_gamma**     |      0.6465 |    0.3926    |0.6465|0.0|0.0|-|-|\n",
        "| **dc_const_hadron**       |        0.3534 |     0.2611     |0.3534|0.0|0.0|-|-|\n",
        "| **dc_stratified**         |          0.5085 |      0.4991      |0.5|0.0|0.0|-|-|\n",
        "| **dc_frequent**       |       0.6465 |    0.3926    |0.6465|0.0|0.0|-|-|\n",
        "| **gnb**    |     0.7220 |    0.6550   |0.7220|0.0|0.0|-|-|\n",
        "| **knn**    |     0.7783 |    0.7494   |0.7783|0.78 - 0.7494 = **0.0326**|0.7981 - 0.7783 = **0.0198**|0.06428360939025879|0.5424604415893555|\n",
        "| **lr**    |     0.7798 |    0.7625   |0.7798|0.78 - 0.7625 = **0.0175**|0.7807 - 0.7798 = **0.0009**|0.06702542304992676|0.004578590393066406|"
      ]
    },
    {
      "cell_type": "code",
      "metadata": {
        "colab": {
          "base_uri": "https://localhost:8080/",
          "height": 636
        },
        "id": "6lHYCZQ721EF",
        "outputId": "7b82ff55-d699-4320-a315-024bac0e3108"
      },
      "source": [
        "new_f1_macros, new_f1_micros, new_labels = [],[],[]\n",
        "for clf in new_predictions:  \n",
        "    new_f1_micros.append(f1_score(y_test,new_predictions[clf],average='micro'))\n",
        "    new_f1_macros.append(f1_score(y_test,new_predictions[clf],average='macro'))\n",
        "    new_labels.append(clf)\n",
        "\n",
        "x = np.arange(len(new_labels))\n",
        "width = 0.25\n",
        "\n",
        "diffs_macros, diffs_micros = [], []\n",
        "for i in range(len(new_f1_micros)):\n",
        "  diffs_micros.append(new_f1_micros[i] - f1_micros[i])\n",
        "  diffs_macros.append(new_f1_macros[i] - f1_macros[i])\n",
        "\n",
        "fig, ax = plt.subplots()\n",
        "rects1 = ax.bar(x - width/4, new_f1_micros, width, label='f1_micros')\n",
        "rects2 = ax.bar(x + width/4, new_f1_macros, width, label='f1_macros')\n",
        "rects3 = ax.bar(x - width/2, diffs_micros, width, label='diffs_f1_micros')\n",
        "rects4 = ax.bar(x + width/2, diffs_macros, width, label='diffs_f1_macros')\n",
        "\n",
        "fig.set_size_inches(18.5, 10.5)\n",
        "ax.set_ylabel('Scores')\n",
        "ax.set_title('Performance Comparison on F1-Score')\n",
        "ax.set_xticks(x)\n",
        "ax.set_xticklabels(new_labels)\n",
        "ax.legend()\n",
        "\n",
        "plt.show()"
      ],
      "execution_count": null,
      "outputs": [
        {
          "output_type": "display_data",
          "data": {
            "image/png": "[encoded data removed]",
            "text/plain": [
              "<Figure size 1332x756 with 1 Axes>"
            ]
          },
          "metadata": {
            "needs_background": "light"
          }
        }
      ]
    },
    {
      "cell_type": "code",
      "metadata": {
        "colab": {
          "base_uri": "https://localhost:8080/",
          "height": 636
        },
        "id": "8x91PYFQ4Hpp",
        "outputId": "deb226de-0b87-4d33-9bc1-b885cfaf2e99"
      },
      "source": [
        "new_scores, new_acc_labels = [],[]\n",
        "for clf in accuracies:  \n",
        "    new_scores.append(new_accuracies[clf])\n",
        "    new_acc_labels.append(clf)\n",
        "\n",
        "x = np.arange(len(new_acc_labels))\n",
        "width = 0.25\n",
        "\n",
        "diffs_accuracies = []\n",
        "for i in range(len(new_scores)):\n",
        "  diffs_accuracies.append(new_scores[i] - scores[i])\n",
        "\n",
        "fig, ax = plt.subplots()\n",
        "rects1 = ax.bar(x - width/2, new_scores, width, label='accuracy')\n",
        "rects2 = ax.bar(x + width/2, diffs_accuracies, width, label='diffs_accuracy')\n",
        "\n",
        "fig.set_size_inches(18.5, 10.5)\n",
        "ax.set_ylabel('Scores')\n",
        "ax.set_title('Performance Comparison on Accuracy')\n",
        "ax.set_xticks(x)\n",
        "ax.set_xticklabels(new_acc_labels)\n",
        "ax.legend()\n",
        "\n",
        "plt.show()"
      ],
      "execution_count": null,
      "outputs": [
        {
          "output_type": "display_data",
          "data": {
            "image/png": "[encoded data removed]",
            "text/plain": [
              "<Figure size 1332x756 with 1 Axes>"
            ]
          },
          "metadata": {
            "needs_background": "light"
          }
        }
      ]
    },
    {
      "cell_type": "markdown",
      "metadata": {
        "id": "FROIv5fl_jCp"
      },
      "source": [
        "Ο καλύτερος ταξινομητής είναι αναμφίβολα ο kNN και ο χειρότερος ο GNB. Προφανώς αυτό ήταν αναμενόμενο. Η αφελής φύση του GNB τον καθιστά ανήμπορο να επιλύσει αποδοτικά τα περισσότερα προβλήματα (τουλάχιστον μόνος του), ενώ ο kNN, πέρα από την γενικά καλή του επίδοση, είναι ιδανικός για το πρόβλημα αυτό. Αφού τα δεδομένα μας είναι δυαδικά (g/h), ο kNN θα λειτουργήσει σαν μια ευθεία που θα τα διαχωρίσει και, έχοντας αρκετούς γείτονες k, θα βελτιστοποιήσει τη λύση του προβλήματος.\n",
        "<br>Να σημειωθεί εδώ ότι ο Linear Regression αύξησε ανεπαίσθητα την επίδοσή του παρά τη χρήση βέλτιστων παραμέτρων. Αυτό συμβαίνει καθώς η φύση του ταξινομητή αυτή είναι ιδιαίτερα ασταθής και δουλεύει ήδη εξαιρετικά για το συγκεκριμένο dataset. Επιπλέον, φαίνεται ότι οι by default παράμετροι του Linear Regression είναι οριακά optimal."
      ]
    },
    {
      "cell_type": "code",
      "metadata": {
        "colab": {
          "base_uri": "https://localhost:8080/",
          "height": 285
        },
        "id": "FSUa8i8m5RJk",
        "outputId": "7edd54a6-1d2c-4e76-bd98-cf4e2bb12e98"
      },
      "source": [
        "sns.heatmap(confusion_matrix(y_test, new_predictions[\"knn\"]), annot=True)"
      ],
      "execution_count": null,
      "outputs": [
        {
          "output_type": "execute_result",
          "data": {
            "text/plain": [
              "<matplotlib.axes._subplots.AxesSubplot at 0x7f62763e4050>"
            ]
          },
          "metadata": {},
          "execution_count": 207
        },
        {
          "output_type": "display_data",
          "data": {
            "image/png": "[encoded data removed]",
            "text/plain": [
              "<Figure size 432x288 with 2 Axes>"
            ]
          },
          "metadata": {
            "needs_background": "light"
          }
        }
      ]
    },
    {
      "cell_type": "code",
      "metadata": {
        "colab": {
          "base_uri": "https://localhost:8080/",
          "height": 282
        },
        "id": "P0SGC1Xy5Vau",
        "outputId": "95472c82-2c74-42c6-88a5-14f78176c60b"
      },
      "source": [
        "sns.heatmap(confusion_matrix(y_test, new_predictions[\"bayes\"]), annot=True)"
      ],
      "execution_count": null,
      "outputs": [
        {
          "output_type": "execute_result",
          "data": {
            "text/plain": [
              "<matplotlib.axes._subplots.AxesSubplot at 0x7f627789d150>"
            ]
          },
          "metadata": {},
          "execution_count": 208
        },
        {
          "output_type": "display_data",
          "data": {
            "image/png": "[encoded data removed]",
            "text/plain": [
              "<Figure size 432x288 with 2 Axes>"
            ]
          },
          "metadata": {
            "needs_background": "light"
          }
        }
      ]
    },
    {
      "cell_type": "markdown",
      "metadata": {
        "id": "T6Fz_S71eMCK"
      },
      "source": [
        "Συμπερασματικά, επιλέγουμε τον kNN ταξινομητή, τόσο λόγω του υψηλότερου accuracy του, όσο και του f1 score του. Ωστόσο, ίσως ο Logistic Regression να αποτελούσε κι αυτός καλή επιλογή, αφού ο kNN έχει τεράστια πολυπλοκότητα και στην πράξη ίσως να μην είναι τόσο εύχρηστος."
      ]
    }
  ]
}